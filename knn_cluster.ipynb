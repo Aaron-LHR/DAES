{
 "cells": [
  {
   "cell_type": "code",
   "execution_count": 1,
   "metadata": {
    "collapsed": true,
    "ExecuteTime": {
     "end_time": "2023-06-06T07:16:24.854782200Z",
     "start_time": "2023-06-06T07:16:15.499785600Z"
    }
   },
   "outputs": [],
   "source": [
    "import os\n",
    "import numpy as np\n",
    "import torch\n",
    "from transformers import BertTokenizer, BertTokenizerFast, BertForSequenceClassification, BertModel\n",
    "import math\n",
    "import torch.nn as nn\n",
    "import os\n",
    "import numpy as np\n",
    "import re\n",
    "# import matplotlib\n",
    "import argparse\n",
    "# matplotlib.use('Qt5Agg')\n",
    "import matplotlib.pyplot as plt\n",
    "from torch.nn.utils.rnn import pack_padded_sequence, pad_packed_sequence\n",
    "from torch import nn\n",
    "import copy\n",
    "import math\n",
    "from tqdm.auto import tqdm,trange\n",
    "from torch.nn import SyncBatchNorm\n",
    "from torch.utils.data.dataloader import default_collate\n",
    "from torch.nn.parallel import DistributedDataParallel\n",
    "import torch.distributed as dist\n",
    "from torch.utils.data.distributed import DistributedSampler\n",
    "# from torch.utils.tensorboard import SummaryWriter\n",
    "import datasets\n",
    "import json\n",
    "import evaluate\n",
    "from datasets import load_dataset, load_from_disk\n",
    "work_dir = \"./\"\n",
    "device = torch.device(\"cuda\" if torch.cuda.is_available() else \"cpu\")"
   ]
  },
  {
   "cell_type": "code",
   "execution_count": 18,
   "outputs": [],
   "source": [
    "import os\n",
    "from collections import defaultdict, Counter\n",
    "import platform\n",
    "if \"Windows\" in platform.system() or \"windows\" in platform.system():\n",
    "    os.environ[\"http_proxy\"] = \"http://127.0.0.1:7890\"\n",
    "    os.environ[\"https_proxy\"] = \"http://127.0.0.1:7890\""
   ],
   "metadata": {
    "collapsed": false,
    "ExecuteTime": {
     "end_time": "2023-06-01T03:34:25.694284200Z",
     "start_time": "2023-06-01T03:34:25.662956200Z"
    }
   }
  },
  {
   "cell_type": "code",
   "execution_count": 2,
   "outputs": [
    {
     "name": "stderr",
     "output_type": "stream",
     "text": [
      "Using the latest cached version of the module from D:\\ProgramData\\huggingface\\modules\\datasets_modules\\datasets\\cnn_dailymail\\1b3c71476f6d152c31c1730e83ccb08bcf23e348233f4fcc11e182248e6bf7de (last modified on Sat Mar 11 16:11:44 2023) since it couldn't be found locally at cnn_dailymail., or remotely on the Hugging Face Hub.\n",
      "Found cached dataset cnn_dailymail (D:/ProgramData/huggingface/datasets/cnn_dailymail/3.0.0/3.0.0/1b3c71476f6d152c31c1730e83ccb08bcf23e348233f4fcc11e182248e6bf7de)\n"
     ]
    },
    {
     "data": {
      "text/plain": "  0%|          | 0/3 [00:00<?, ?it/s]",
      "application/vnd.jupyter.widget-view+json": {
       "version_major": 2,
       "version_minor": 0,
       "model_id": "af2ff0a31d8c48bc85208fda63a275d5"
      }
     },
     "metadata": {},
     "output_type": "display_data"
    },
    {
     "data": {
      "text/plain": "DatasetDict({\n    train: Dataset({\n        features: ['article', 'highlights', 'id'],\n        num_rows: 287113\n    })\n    validation: Dataset({\n        features: ['article', 'highlights', 'id'],\n        num_rows: 13368\n    })\n    test: Dataset({\n        features: ['article', 'highlights', 'id'],\n        num_rows: 11490\n    })\n})"
     },
     "execution_count": 2,
     "metadata": {},
     "output_type": "execute_result"
    }
   ],
   "source": [
    "dataset = load_dataset(\"cnn_dailymail\", '3.0.0')\n",
    "dataset"
   ],
   "metadata": {
    "collapsed": false,
    "ExecuteTime": {
     "end_time": "2023-06-06T07:16:27.775982900Z",
     "start_time": "2023-06-06T07:16:27.264636900Z"
    }
   }
  },
  {
   "cell_type": "code",
   "execution_count": 3,
   "outputs": [
    {
     "data": {
      "text/plain": "[\"LONDON, England (Reuters) -- Harry Potter star Daniel Radcliffe gains access to a reported £20 million ($41.1 million) fortune as he turns 18 on Monday, but he insists the money won't cast a spell on him.\",\n 'Daniel Radcliffe as Harry Potter in \"Harry Potter and the Order of the Phoenix\" To the disappointment of gossip columnists around the world, the young actor says he has no plans to fritter his cash away on fast cars, drink and celebrity parties.',\n '\"I don\\'t plan to be one of those people who, as soon as they turn 18, suddenly buy themselves a massive sports car collection or something similar,\" he told an Australian interviewer earlier this month.',\n '\"I don\\'t think I\\'ll be particularly extravagant.',\n '\"The things I like buying are things that cost about 10 pounds -- books and CDs and DVDs.\"',\n 'At 18, Radcliffe will be able to gamble in a casino, buy a drink in a pub or see the horror film \"Hostel: Part II,\" currently six places below his number one movie on the UK box office chart.',\n \"Details of how he'll mark his landmark birthday are under wraps.\",\n 'His agent and publicist had no comment on his plans.',\n '\"I\\'ll definitely have some sort of party,\" he said in an interview.',\n '\"Hopefully none of you will be reading about it.\"',\n \"Radcliffe's earnings from the first five Potter films have been held in a trust fund which he has not been able to touch.\",\n 'Despite his growing fame and riches, the actor says he is keeping his feet firmly on the ground.',\n '\"People are always looking to say \\'kid star goes off the rails,\\'\" he told reporters last month.',\n '\"But I try very hard not to go that way because it would be too easy for them.\"',\n 'His latest outing as the boy wizard in \"Harry Potter and the Order of the Phoenix\" is breaking records on both sides of the Atlantic and he will reprise the role in the last two films.',\n \"Watch I-Reporter give her review of Potter's latest » .\",\n 'There is life beyond Potter, however.',\n 'The Londoner has filmed a TV movie called \"My Boy Jack,\" about author Rudyard Kipling and his son, due for release later this year.',\n 'He will also appear in \"December Boys,\" an Australian film about four boys who escape an orphanage.',\n 'Earlier this year, he made his stage debut playing a tortured teenager in Peter Shaffer\\'s \"Equus.\"',\n 'Meanwhile, he is braced for even closer media scrutiny now that he\\'s legally an adult: \"I just think I\\'m going to be more sort of fair game,\" he told Reuters.',\n 'E-mail to a friend .',\n 'Copyright 2007 Reuters.',\n 'All rights reserved.This material may not be published, broadcast, rewritten, or redistributed.']"
     },
     "execution_count": 3,
     "metadata": {},
     "output_type": "execute_result"
    }
   ],
   "source": [
    "from nltk.tokenize import sent_tokenize\n",
    "sent_tokenize(dataset[\"train\"][0][\"article\"])"
   ],
   "metadata": {
    "collapsed": false,
    "ExecuteTime": {
     "end_time": "2023-06-06T07:16:29.770639200Z",
     "start_time": "2023-06-06T07:16:29.432771400Z"
    }
   }
  },
  {
   "cell_type": "code",
   "execution_count": 5,
   "outputs": [],
   "source": [
    "def get_rouge_prompt_article(example):\n",
    "    from nltk.tokenize import sent_tokenize\n",
    "    article_sents = sent_tokenize(example['article'])\n",
    "    highlights_sents = sent_tokenize(example['highlights'])\n",
    "    if len(highlights_sents) == 1:\n",
    "        highlights_sents = sent_tokenize(example['highlights'].replace(\"\\n\", \". \"))\n",
    "    if len(highlights_sents) == 1:\n",
    "        highlights_sents = sent_tokenize(example['highlights'].replace(\"  \", \". \"))\n",
    "\n",
    "    from rouge_score import rouge_scorer\n",
    "    scorer = rouge_scorer.RougeScorer(['rouge2'], use_stemmer=True)\n",
    "    flag = 0\n",
    "    for i, article_sent in enumerate(article_sents):\n",
    "        rouges = []\n",
    "        for j, highlights_sent in enumerate(highlights_sents):\n",
    "            score = scorer.score(highlights_sent, article_sent)[\"rouge2\"].fmeasure\n",
    "            rouges.append((j + 1, score))\n",
    "        rouges = sorted(rouges, key=lambda x: x[1], reverse=True)\n",
    "        if rouges[0][1] > 0:\n",
    "            article_sents[i] = f'[{rouges[0][0]}] {article_sents[i]} [/{rouges[0][0]}]'\n",
    "            flag = 1\n",
    "    example['article'] = ' '.join(article_sents)\n",
    "    example['flag'] = flag\n",
    "    return example"
   ],
   "metadata": {
    "collapsed": false,
    "ExecuteTime": {
     "end_time": "2023-06-06T07:16:40.150043400Z",
     "start_time": "2023-06-06T07:16:40.107048100Z"
    }
   }
  },
  {
   "cell_type": "code",
   "execution_count": null,
   "outputs": [
    {
     "name": "stdout",
     "output_type": "stream",
     "text": [
      "                    "
     ]
    }
   ],
   "source": [
    "ds = dataset.map(get_rouge_prompt_article, num_proc=20)"
   ],
   "metadata": {
    "collapsed": false,
    "ExecuteTime": {
     "start_time": "2023-06-06T07:16:43.313198500Z"
    }
   }
  },
  {
   "cell_type": "code",
   "execution_count": 29,
   "outputs": [
    {
     "name": "stdout",
     "output_type": "stream",
     "text": [
      "                                                            "
     ]
    }
   ],
   "source": [
    "ds2 = dataset.map(get_prompt_article, num_proc=20)"
   ],
   "metadata": {
    "collapsed": false,
    "ExecuteTime": {
     "end_time": "2023-05-30T09:06:53.645531800Z",
     "start_time": "2023-05-30T08:39:20.182715100Z"
    }
   }
  },
  {
   "cell_type": "code",
   "execution_count": 27,
   "outputs": [
    {
     "data": {
      "text/plain": "[\"Parents beam with pride, can't stop from smiling from outpouring of support .\",\n 'Mom: \"I was so happy I didn\\'t know what to do\"\\nBurn center in U.S. has offered to provide treatment for reconstructive surgeries .',\n 'Dad says, \"Anything for Youssif\"']"
     },
     "execution_count": 27,
     "metadata": {},
     "output_type": "execute_result"
    }
   ],
   "source": [
    "from nltk.tokenize import sent_tokenize\n",
    "index = 5\n",
    "highlights_sents = sent_tokenize(dataset[\"train\"][index][\"highlights\"])\n",
    "if len(highlights_sents) == 1:\n",
    "    highlights_sents = sent_tokenize(dataset[\"train\"][index][\"highlights\"].replace(\"\\n\", \". \"))\n",
    "if len(highlights_sents) == 1:\n",
    "    highlights_sents = sent_tokenize(dataset[\"train\"][index][\"highlights\"].replace(\"  \", \". \"))\n",
    "highlights_sents"
   ],
   "metadata": {
    "collapsed": false,
    "ExecuteTime": {
     "end_time": "2023-06-01T03:35:31.264749800Z",
     "start_time": "2023-06-01T03:35:31.183656300Z"
    }
   }
  },
  {
   "cell_type": "code",
   "execution_count": 40,
   "outputs": [
    {
     "data": {
      "text/plain": "'BAGHDAD, Iraq (CNN) -- Dressed in a Superman shirt, 5-year-old Youssif held his sister\\'s hand Friday, seemingly unaware that millions of people across the world have been touched by his story. Nearby, his parents talked about the new future and hope they have for their boy -- and the potential for recovery from his severe burns. Youssif holds his sister\\'s hand Friday. He\\'s wearing a facial mask often used to help burn victims. It\\'s the best birthday present the Iraqi family could ever have imagined for their boy: Youssif turns 6 next Friday. [2] \"I was so happy I didn\\'t know what to do with myself,\" his mother, Zainab, told CNN, a broad smile across her face. [/2] [2] \"I didn\\'t think the reaction would be this big.\" [/2] [1] His father said he was on the roof of his house when CNN called him with the news about the outpouring of support for his son. [/1] \"We just want to thank everyone who has come forward,\" he said. \"We knew there was kindness out there.\" [1] Like his wife, he couldn\\'t stop smiling. [/1] He talked about how he tried in vain to get help for his son in Baghdad, leaving \"no stone unturned\" on a mission to help his boy. There were many trips to the Ministry of Health. He says he even put in a request to Iraq\\'s parliament for help. The family eventually told CNN their story -- that Youssif was grabbed by masked men outside their home on January 15, doused in gasoline and set on fire. Simply by coming forward, his parents put themselves in incredible danger. No one has been arrested or held accountable in Youssif\\'s case. Watch CNN\\'s Arwa Damon describe \\'truly phenomenal\\' outpouring » . [3] Shortly after Youssif\\'s story aired Wednesday, the Children\\'s Burn Foundation -- a nonprofit organization based in Sherman Oaks, California, that provides support for burn victims locally, nationally and internationally -- agreed to pay for the transportation for Youssif and his family to come to the United States and to set up a fund for donations. [/3] You can make a donation at the foundation\\'s site by clicking here. There\\'s a drop-down menu under the \"general donation\" area that is marked \"Youssif\\'s fund.\" [3] The foundation says it will cover all medical costs -- from surgeries for Youssif to housing costs to any social rehabilitation that might be needed for him. [/3] [3] Surgeries will be performed by Dr. Peter Grossman, a plastic surgeon with the affiliated Grossman Burn Center who is donating his services for Youssif\\'s cause. [/3] Officials are still trying to get the appropriate visas for the family\\'s travels. \"We are prepared to have them come here, set them up in a housing situation, provide support for them and begin treatment,\" said Barbara Friedman, executive director of the Children\\'s Burn Foundation. \"We expect that the treatment will be from between six months to a year with many surgeries.\" She added, \"He will be getting the absolute best care that\\'s available.\" Youssif\\'s parents said they know it\\'s going to be a lengthy and difficult process and that adjusting to their stay in America may not be easy. But none of that matters -- getting help for their boy is first and foremost. [3] \"I will do anything for Youssif,\" his father said, pulling his son closer to him. [/3] \"Our child is everything.\" His mother tried to coax Youssif to talk to us on this day. [2] But he didn\\'t want to; his mother says he\\'s shy outside of their home. [/2] The biggest obstacle now is getting the visas to leave, and the serious security risks they face every day and hour they remain in Iraq. But this family -- which saw the very worst in humanity on that January day -- has new hope in the world. That is partly due to the tens of thousands of CNN.com users who were so moved by the story and wanted to act. CNN Iraqi staff central to bringing this story together were also overwhelmed with the generosity coming from people outside of their border. In a nation that largely feels abandoned by the rest of the world, it was a refreshing realization. E-mail to a friend . CNN.com senior producer Wayne Drash contributed to this report in Atlanta.'"
     },
     "execution_count": 40,
     "metadata": {},
     "output_type": "execute_result"
    }
   ],
   "source": [
    "ds2[\"train\"][index][\"article\"]"
   ],
   "metadata": {
    "collapsed": false,
    "ExecuteTime": {
     "end_time": "2023-05-30T12:55:19.612401500Z",
     "start_time": "2023-05-30T12:55:19.589403800Z"
    }
   }
  },
  {
   "cell_type": "code",
   "execution_count": 20,
   "outputs": [
    {
     "data": {
      "text/plain": "{'rouge1': Score(precision=0.15384615384615385, recall=0.3076923076923077, fmeasure=0.20512820512820515),\n 'rouge2': Score(precision=0.08, recall=0.16666666666666666, fmeasure=0.10810810810810811),\n 'rougeL': Score(precision=0.15384615384615385, recall=0.3076923076923077, fmeasure=0.20512820512820515)}"
     },
     "execution_count": 20,
     "metadata": {},
     "output_type": "execute_result"
    }
   ],
   "source": [
    "from rouge_score import rouge_scorer\n",
    "scorer = rouge_scorer.RougeScorer(['rouge1', 'rouge2', 'rougeL'], use_stemmer=True)\n",
    "scorer.score(\"Parents beam with pride, can't stop from smiling from outpouring of support .\", 'His father said he was on the roof of his house when CNN called him with the news about the outpouring of support for his son.')"
   ],
   "metadata": {
    "collapsed": false,
    "ExecuteTime": {
     "end_time": "2023-06-01T03:34:42.943408100Z",
     "start_time": "2023-06-01T03:34:41.869907Z"
    }
   }
  },
  {
   "cell_type": "code",
   "execution_count": 104,
   "outputs": [],
   "source": [
    "from transformers import AutoModelForSeq2SeqLM\n",
    "\n",
    "model = AutoModelForSeq2SeqLM.from_pretrained(\"facebook/bart-large\")"
   ],
   "metadata": {
    "collapsed": false,
    "ExecuteTime": {
     "end_time": "2023-06-01T12:28:46.450233300Z",
     "start_time": "2023-06-01T12:28:37.703312Z"
    }
   }
  },
  {
   "cell_type": "code",
   "execution_count": 9,
   "outputs": [
    {
     "data": {
      "text/plain": "BartEncoder(\n  (embed_tokens): Embedding(50265, 1024, padding_idx=1)\n  (embed_positions): BartLearnedPositionalEmbedding(1026, 1024)\n  (layers): ModuleList(\n    (0): BartEncoderLayer(\n      (self_attn): BartAttention(\n        (k_proj): Linear(in_features=1024, out_features=1024, bias=True)\n        (v_proj): Linear(in_features=1024, out_features=1024, bias=True)\n        (q_proj): Linear(in_features=1024, out_features=1024, bias=True)\n        (out_proj): Linear(in_features=1024, out_features=1024, bias=True)\n      )\n      (self_attn_layer_norm): LayerNorm((1024,), eps=1e-05, elementwise_affine=True)\n      (activation_fn): GELUActivation()\n      (fc1): Linear(in_features=1024, out_features=4096, bias=True)\n      (fc2): Linear(in_features=4096, out_features=1024, bias=True)\n      (final_layer_norm): LayerNorm((1024,), eps=1e-05, elementwise_affine=True)\n    )\n    (1): BartEncoderLayer(\n      (self_attn): BartAttention(\n        (k_proj): Linear(in_features=1024, out_features=1024, bias=True)\n        (v_proj): Linear(in_features=1024, out_features=1024, bias=True)\n        (q_proj): Linear(in_features=1024, out_features=1024, bias=True)\n        (out_proj): Linear(in_features=1024, out_features=1024, bias=True)\n      )\n      (self_attn_layer_norm): LayerNorm((1024,), eps=1e-05, elementwise_affine=True)\n      (activation_fn): GELUActivation()\n      (fc1): Linear(in_features=1024, out_features=4096, bias=True)\n      (fc2): Linear(in_features=4096, out_features=1024, bias=True)\n      (final_layer_norm): LayerNorm((1024,), eps=1e-05, elementwise_affine=True)\n    )\n    (2): BartEncoderLayer(\n      (self_attn): BartAttention(\n        (k_proj): Linear(in_features=1024, out_features=1024, bias=True)\n        (v_proj): Linear(in_features=1024, out_features=1024, bias=True)\n        (q_proj): Linear(in_features=1024, out_features=1024, bias=True)\n        (out_proj): Linear(in_features=1024, out_features=1024, bias=True)\n      )\n      (self_attn_layer_norm): LayerNorm((1024,), eps=1e-05, elementwise_affine=True)\n      (activation_fn): GELUActivation()\n      (fc1): Linear(in_features=1024, out_features=4096, bias=True)\n      (fc2): Linear(in_features=4096, out_features=1024, bias=True)\n      (final_layer_norm): LayerNorm((1024,), eps=1e-05, elementwise_affine=True)\n    )\n    (3): BartEncoderLayer(\n      (self_attn): BartAttention(\n        (k_proj): Linear(in_features=1024, out_features=1024, bias=True)\n        (v_proj): Linear(in_features=1024, out_features=1024, bias=True)\n        (q_proj): Linear(in_features=1024, out_features=1024, bias=True)\n        (out_proj): Linear(in_features=1024, out_features=1024, bias=True)\n      )\n      (self_attn_layer_norm): LayerNorm((1024,), eps=1e-05, elementwise_affine=True)\n      (activation_fn): GELUActivation()\n      (fc1): Linear(in_features=1024, out_features=4096, bias=True)\n      (fc2): Linear(in_features=4096, out_features=1024, bias=True)\n      (final_layer_norm): LayerNorm((1024,), eps=1e-05, elementwise_affine=True)\n    )\n    (4): BartEncoderLayer(\n      (self_attn): BartAttention(\n        (k_proj): Linear(in_features=1024, out_features=1024, bias=True)\n        (v_proj): Linear(in_features=1024, out_features=1024, bias=True)\n        (q_proj): Linear(in_features=1024, out_features=1024, bias=True)\n        (out_proj): Linear(in_features=1024, out_features=1024, bias=True)\n      )\n      (self_attn_layer_norm): LayerNorm((1024,), eps=1e-05, elementwise_affine=True)\n      (activation_fn): GELUActivation()\n      (fc1): Linear(in_features=1024, out_features=4096, bias=True)\n      (fc2): Linear(in_features=4096, out_features=1024, bias=True)\n      (final_layer_norm): LayerNorm((1024,), eps=1e-05, elementwise_affine=True)\n    )\n    (5): BartEncoderLayer(\n      (self_attn): BartAttention(\n        (k_proj): Linear(in_features=1024, out_features=1024, bias=True)\n        (v_proj): Linear(in_features=1024, out_features=1024, bias=True)\n        (q_proj): Linear(in_features=1024, out_features=1024, bias=True)\n        (out_proj): Linear(in_features=1024, out_features=1024, bias=True)\n      )\n      (self_attn_layer_norm): LayerNorm((1024,), eps=1e-05, elementwise_affine=True)\n      (activation_fn): GELUActivation()\n      (fc1): Linear(in_features=1024, out_features=4096, bias=True)\n      (fc2): Linear(in_features=4096, out_features=1024, bias=True)\n      (final_layer_norm): LayerNorm((1024,), eps=1e-05, elementwise_affine=True)\n    )\n    (6): BartEncoderLayer(\n      (self_attn): BartAttention(\n        (k_proj): Linear(in_features=1024, out_features=1024, bias=True)\n        (v_proj): Linear(in_features=1024, out_features=1024, bias=True)\n        (q_proj): Linear(in_features=1024, out_features=1024, bias=True)\n        (out_proj): Linear(in_features=1024, out_features=1024, bias=True)\n      )\n      (self_attn_layer_norm): LayerNorm((1024,), eps=1e-05, elementwise_affine=True)\n      (activation_fn): GELUActivation()\n      (fc1): Linear(in_features=1024, out_features=4096, bias=True)\n      (fc2): Linear(in_features=4096, out_features=1024, bias=True)\n      (final_layer_norm): LayerNorm((1024,), eps=1e-05, elementwise_affine=True)\n    )\n    (7): BartEncoderLayer(\n      (self_attn): BartAttention(\n        (k_proj): Linear(in_features=1024, out_features=1024, bias=True)\n        (v_proj): Linear(in_features=1024, out_features=1024, bias=True)\n        (q_proj): Linear(in_features=1024, out_features=1024, bias=True)\n        (out_proj): Linear(in_features=1024, out_features=1024, bias=True)\n      )\n      (self_attn_layer_norm): LayerNorm((1024,), eps=1e-05, elementwise_affine=True)\n      (activation_fn): GELUActivation()\n      (fc1): Linear(in_features=1024, out_features=4096, bias=True)\n      (fc2): Linear(in_features=4096, out_features=1024, bias=True)\n      (final_layer_norm): LayerNorm((1024,), eps=1e-05, elementwise_affine=True)\n    )\n    (8): BartEncoderLayer(\n      (self_attn): BartAttention(\n        (k_proj): Linear(in_features=1024, out_features=1024, bias=True)\n        (v_proj): Linear(in_features=1024, out_features=1024, bias=True)\n        (q_proj): Linear(in_features=1024, out_features=1024, bias=True)\n        (out_proj): Linear(in_features=1024, out_features=1024, bias=True)\n      )\n      (self_attn_layer_norm): LayerNorm((1024,), eps=1e-05, elementwise_affine=True)\n      (activation_fn): GELUActivation()\n      (fc1): Linear(in_features=1024, out_features=4096, bias=True)\n      (fc2): Linear(in_features=4096, out_features=1024, bias=True)\n      (final_layer_norm): LayerNorm((1024,), eps=1e-05, elementwise_affine=True)\n    )\n    (9): BartEncoderLayer(\n      (self_attn): BartAttention(\n        (k_proj): Linear(in_features=1024, out_features=1024, bias=True)\n        (v_proj): Linear(in_features=1024, out_features=1024, bias=True)\n        (q_proj): Linear(in_features=1024, out_features=1024, bias=True)\n        (out_proj): Linear(in_features=1024, out_features=1024, bias=True)\n      )\n      (self_attn_layer_norm): LayerNorm((1024,), eps=1e-05, elementwise_affine=True)\n      (activation_fn): GELUActivation()\n      (fc1): Linear(in_features=1024, out_features=4096, bias=True)\n      (fc2): Linear(in_features=4096, out_features=1024, bias=True)\n      (final_layer_norm): LayerNorm((1024,), eps=1e-05, elementwise_affine=True)\n    )\n    (10): BartEncoderLayer(\n      (self_attn): BartAttention(\n        (k_proj): Linear(in_features=1024, out_features=1024, bias=True)\n        (v_proj): Linear(in_features=1024, out_features=1024, bias=True)\n        (q_proj): Linear(in_features=1024, out_features=1024, bias=True)\n        (out_proj): Linear(in_features=1024, out_features=1024, bias=True)\n      )\n      (self_attn_layer_norm): LayerNorm((1024,), eps=1e-05, elementwise_affine=True)\n      (activation_fn): GELUActivation()\n      (fc1): Linear(in_features=1024, out_features=4096, bias=True)\n      (fc2): Linear(in_features=4096, out_features=1024, bias=True)\n      (final_layer_norm): LayerNorm((1024,), eps=1e-05, elementwise_affine=True)\n    )\n    (11): BartEncoderLayer(\n      (self_attn): BartAttention(\n        (k_proj): Linear(in_features=1024, out_features=1024, bias=True)\n        (v_proj): Linear(in_features=1024, out_features=1024, bias=True)\n        (q_proj): Linear(in_features=1024, out_features=1024, bias=True)\n        (out_proj): Linear(in_features=1024, out_features=1024, bias=True)\n      )\n      (self_attn_layer_norm): LayerNorm((1024,), eps=1e-05, elementwise_affine=True)\n      (activation_fn): GELUActivation()\n      (fc1): Linear(in_features=1024, out_features=4096, bias=True)\n      (fc2): Linear(in_features=4096, out_features=1024, bias=True)\n      (final_layer_norm): LayerNorm((1024,), eps=1e-05, elementwise_affine=True)\n    )\n  )\n  (layernorm_embedding): LayerNorm((1024,), eps=1e-05, elementwise_affine=True)\n)"
     },
     "execution_count": 9,
     "metadata": {},
     "output_type": "execute_result"
    }
   ],
   "source": [
    "model.model.encoder"
   ],
   "metadata": {
    "collapsed": false,
    "ExecuteTime": {
     "end_time": "2023-06-01T03:33:24.601734100Z",
     "start_time": "2023-06-01T03:33:24.504208Z"
    }
   }
  },
  {
   "cell_type": "code",
   "execution_count": 23,
   "outputs": [],
   "source": [
    "from transformers import AutoTokenizer\n",
    "\n",
    "tokenizer = AutoTokenizer.from_pretrained(\"facebook/bart-large\")"
   ],
   "metadata": {
    "collapsed": false,
    "ExecuteTime": {
     "end_time": "2023-06-01T03:35:04.221711400Z",
     "start_time": "2023-06-01T03:34:53.671102700Z"
    }
   }
  },
  {
   "cell_type": "code",
   "execution_count": 13,
   "outputs": [
    {
     "ename": "NameError",
     "evalue": "name 'output' is not defined",
     "output_type": "error",
     "traceback": [
      "\u001B[1;31m---------------------------------------------------------------------------\u001B[0m",
      "\u001B[1;31mNameError\u001B[0m                                 Traceback (most recent call last)",
      "\u001B[1;32m~\\AppData\\Local\\Temp\\ipykernel_31676\\2322101752.py\u001B[0m in \u001B[0;36m<module>\u001B[1;34m\u001B[0m\n\u001B[1;32m----> 1\u001B[1;33m \u001B[0moutput\u001B[0m\u001B[1;33m.\u001B[0m\u001B[0mencoder_last_hidden_state\u001B[0m\u001B[1;33m.\u001B[0m\u001B[0mshape\u001B[0m\u001B[1;33m\u001B[0m\u001B[1;33m\u001B[0m\u001B[0m\n\u001B[0m",
      "\u001B[1;31mNameError\u001B[0m: name 'output' is not defined"
     ]
    }
   ],
   "source": [
    "output.encoder_last_hidden_state.shape"
   ],
   "metadata": {
    "collapsed": false,
    "ExecuteTime": {
     "end_time": "2023-06-01T03:33:34.780070200Z",
     "start_time": "2023-06-01T03:33:34.717019400Z"
    }
   }
  },
  {
   "cell_type": "code",
   "execution_count": 67,
   "outputs": [
    {
     "data": {
      "text/plain": "{'bos_token': '<s>',\n 'eos_token': '</s>',\n 'unk_token': '<unk>',\n 'sep_token': '</s>',\n 'pad_token': '<pad>',\n 'cls_token': '<s>',\n 'mask_token': '<mask>'}"
     },
     "execution_count": 67,
     "metadata": {},
     "output_type": "execute_result"
    }
   ],
   "source": [
    "tokenizer.special_tokens_map"
   ],
   "metadata": {
    "collapsed": false,
    "ExecuteTime": {
     "end_time": "2023-05-31T08:21:24.179319900Z",
     "start_time": "2023-05-31T08:21:24.165321Z"
    }
   }
  },
  {
   "cell_type": "code",
   "execution_count": 85,
   "outputs": [
    {
     "data": {
      "text/plain": "{'input_ids': [[0, 118, 657, 47, 479, 2, 1, 1, 1, 1, 1, 1, 1, 1, 1, 1, 1, 1, 1, 1]], 'attention_mask': [[1, 1, 1, 1, 1, 1, 0, 0, 0, 0, 0, 0, 0, 0, 0, 0, 0, 0, 0, 0]]}"
     },
     "execution_count": 85,
     "metadata": {},
     "output_type": "execute_result"
    }
   ],
   "source": [
    "tokenizer(['i love you .'], max_length=20, padding='max_length')"
   ],
   "metadata": {
    "collapsed": false,
    "ExecuteTime": {
     "end_time": "2023-06-01T12:12:45.291904Z",
     "start_time": "2023-06-01T12:12:45.265900600Z"
    }
   }
  },
  {
   "cell_type": "code",
   "execution_count": 78,
   "outputs": [
    {
     "data": {
      "text/plain": "transformers.tokenization_utils_base.BatchEncoding"
     },
     "execution_count": 78,
     "metadata": {},
     "output_type": "execute_result"
    }
   ],
   "source": [
    "(type(tokenizer(['i love you .']))"
   ],
   "metadata": {
    "collapsed": false,
    "ExecuteTime": {
     "end_time": "2023-06-01T08:43:05.477819400Z",
     "start_time": "2023-06-01T08:43:05.453820700Z"
    }
   }
  },
  {
   "cell_type": "code",
   "execution_count": 77,
   "outputs": [
    {
     "data": {
      "text/plain": "{'input_ids': [0, 118, 657, 47, 479, 2], 'attention_mask': [1, 1, 1, 1, 1, 1]}"
     },
     "execution_count": 77,
     "metadata": {},
     "output_type": "execute_result"
    }
   ],
   "source": [
    "dict(tokenizer(['i love you .']))"
   ],
   "metadata": {
    "collapsed": false,
    "ExecuteTime": {
     "end_time": "2023-06-01T08:34:55.087283900Z",
     "start_time": "2023-06-01T08:34:55.063285200Z"
    }
   }
  },
  {
   "cell_type": "code",
   "execution_count": 120,
   "outputs": [
    {
     "data": {
      "text/plain": "{'input_ids': tensor([[    0,   118,   657,    47,     2,     1,     1,     1,     1,     1,\n             1,     1,     1,     1,     1,     1,     1,     1,     1],\n        [    0,   118,   524,  1855, 33965,   116,    47,    32, 38187,   260,\n           328,    54,   524,   939,     4,    54,    32,    47,     2]]), 'attention_mask': tensor([[1, 1, 1, 1, 1, 0, 0, 0, 0, 0, 0, 0, 0, 0, 0, 0, 0, 0, 0],\n        [1, 1, 1, 1, 1, 1, 1, 1, 1, 1, 1, 1, 1, 1, 1, 1, 1, 1, 1]])}"
     },
     "execution_count": 120,
     "metadata": {},
     "output_type": "execute_result"
    }
   ],
   "source": [
    "batch = tokenizer(['i love you', 'i am chinese? you are american! who am i. who are you'], return_tensors='pt', padding=True)\n",
    "batch"
   ],
   "metadata": {
    "collapsed": false,
    "ExecuteTime": {
     "end_time": "2023-06-01T12:33:23.753073200Z",
     "start_time": "2023-06-01T12:33:23.713073300Z"
    }
   }
  },
  {
   "cell_type": "code",
   "execution_count": 252,
   "outputs": [],
   "source": [
    "index = 0\n",
    "batch = tokenizer([dataset['train'][index]['article']], return_tensors='pt', padding=True)\n",
    "label_batch = tokenizer([dataset['train'][index]['highlights']], return_tensors='pt', padding=True)"
   ],
   "metadata": {
    "collapsed": false,
    "ExecuteTime": {
     "end_time": "2023-06-04T06:51:02.526745800Z",
     "start_time": "2023-06-04T06:51:02.499748300Z"
    }
   }
  },
  {
   "cell_type": "code",
   "execution_count": 247,
   "outputs": [],
   "source": [
    "outputs = model(**batch)"
   ],
   "metadata": {
    "collapsed": false,
    "ExecuteTime": {
     "end_time": "2023-06-04T06:49:21.238512900Z",
     "start_time": "2023-06-04T06:49:15.624923100Z"
    }
   }
  },
  {
   "cell_type": "code",
   "execution_count": 253,
   "outputs": [],
   "source": [
    "label_outputs = model(**label_batch)"
   ],
   "metadata": {
    "collapsed": false,
    "ExecuteTime": {
     "end_time": "2023-06-04T06:52:32.965409Z",
     "start_time": "2023-06-04T06:52:32.658410Z"
    }
   }
  },
  {
   "cell_type": "code",
   "execution_count": 248,
   "outputs": [
    {
     "data": {
      "text/plain": "tensor([[[ 0.0010,  0.0416,  0.0414,  ...,  0.0017,  0.0055, -0.0012],\n         [ 0.1966, -0.1000, -0.2184,  ..., -0.2350, -0.2222,  0.1250],\n         [-0.2357,  0.2553,  0.1261,  ..., -0.0563,  0.0406,  0.2011],\n         ...,\n         [ 0.0681, -0.5526, -0.6510,  ...,  0.0201,  0.0405,  0.1527],\n         [ 0.0023,  0.0141,  0.0062,  ...,  0.0052, -0.0063, -0.0039],\n         [-0.0534,  0.4475, -0.0751,  ...,  0.1409,  0.0267, -0.1297]]],\n       grad_fn=<NativeLayerNormBackward0>)"
     },
     "execution_count": 248,
     "metadata": {},
     "output_type": "execute_result"
    }
   ],
   "source": [
    "outputs.encoder_last_hidden_state"
   ],
   "metadata": {
    "collapsed": false,
    "ExecuteTime": {
     "end_time": "2023-06-04T06:49:22.797618Z",
     "start_time": "2023-06-04T06:49:22.777619500Z"
    }
   }
  },
  {
   "cell_type": "code",
   "execution_count": 254,
   "outputs": [],
   "source": [
    "\n",
    "# def cluster_prompt(batch, outputs):\n",
    "from sklearn.cluster import KMeans\n",
    "from nltk.tokenize import sent_tokenize\n",
    "encoder_last_hidden_state = outputs.encoder_last_hidden_state\n",
    "articles = tokenizer.batch_decode(batch.input_ids, skip_special_tokens=True)\n",
    "for article_index, article in enumerate(articles):\n",
    "    sents = sent_tokenize(article)\n",
    "    kmeans = KMeans(n_clusters=3)\n",
    "    embeddings = []\n",
    "    start_position = 1\n",
    "    for sent in sents:\n",
    "        # print(sent)\n",
    "        sent_len = len(tokenizer(sent).input_ids) - 2\n",
    "        embeddings.append(torch.mean(encoder_last_hidden_state[article_index, start_position: start_position + sent_len], dim=0))\n",
    "        # print(tokenizer.decode(batch.input_ids[article_index, start_position: start_position + sent_len], skip_special_tokens=False))\n",
    "        start_position += sent_len\n",
    "    embeddings = torch.stack(embeddings)\n",
    "    # print(embeddings.shape)\n",
    "    np_emb = embeddings.cpu().detach().numpy()\n",
    "    kmeans = kmeans.fit(np_emb)\n",
    "    # km_labels = km.labels_\n",
    "    # print(km_labels)\n",
    "    for n_cluster_index in range(kmeans.n_clusters):\n",
    "        distances = kmeans.transform(np_emb)[:, n_cluster_index]\n",
    "        # print(len([closest_i for closest_i in np.argsort(distances) if kmeans.labels_[closest_i] == n_cluster_index]))\n",
    "        # closest = [closest_i for closest_i in np.argsort(distances) if kmeans.labels_[closest_i] == n_cluster_index][:3]\n",
    "        closest = np.argsort(distances)[:3]\n",
    "        for center_sent_index in closest:\n",
    "            sents[center_sent_index] = f'[{n_cluster_index + 1}] {sents[center_sent_index]} [/{n_cluster_index + 1}]'\n",
    "    article = ' '.join(sents)\n",
    "    articles[article_index] = article\n",
    "    # return articles\n"
   ],
   "metadata": {
    "collapsed": false,
    "ExecuteTime": {
     "end_time": "2023-06-04T06:54:56.148598600Z",
     "start_time": "2023-06-04T06:54:55.973600100Z"
    }
   }
  },
  {
   "cell_type": "code",
   "execution_count": 256,
   "outputs": [],
   "source": [
    "label_encoder_last_hidden_state = label_outputs.encoder_last_hidden_state\n",
    "highlights = tokenizer.batch_decode(label_batch.input_ids, skip_special_tokens=True)\n",
    "for highlight_index, highlight in enumerate(highlights):\n",
    "    sents = sent_tokenize(highlight)\n",
    "    label_embeddings = []\n",
    "    start_position = 1\n",
    "    for sent in sents:\n",
    "        # print(sent)\n",
    "        sent_len = len(tokenizer(sent).input_ids) - 2\n",
    "        label_embeddings.append(torch.mean(label_encoder_last_hidden_state[highlight_index, start_position: start_position + sent_len], dim=0))\n",
    "        # print(tokenizer.decode(batch.input_ids[article_index, start_position: start_position + sent_len], skip_special_tokens=False))\n",
    "        start_position += sent_len\n",
    "    label_embeddings = torch.stack(label_embeddings)\n",
    "    # print(embeddings.shape)\n",
    "    label_np_emb = label_embeddings.cpu().detach().numpy()"
   ],
   "metadata": {
    "collapsed": false,
    "ExecuteTime": {
     "end_time": "2023-06-04T06:55:11.389992800Z",
     "start_time": "2023-06-04T06:55:11.356882300Z"
    }
   }
  },
  {
   "cell_type": "code",
   "execution_count": null,
   "outputs": [],
   "source": [
    "print(cluster_prompt(batch, outputs))\n"
   ],
   "metadata": {
    "collapsed": false
   }
  },
  {
   "cell_type": "code",
   "execution_count": 259,
   "outputs": [
    {
     "data": {
      "text/plain": "((24, 1024), (3, 1024))"
     },
     "execution_count": 259,
     "metadata": {},
     "output_type": "execute_result"
    }
   ],
   "source": [
    "np_emb.shape, label_np_emb.shape"
   ],
   "metadata": {
    "collapsed": false,
    "ExecuteTime": {
     "end_time": "2023-06-04T06:56:24.037812100Z",
     "start_time": "2023-06-04T06:56:24.030812400Z"
    }
   }
  },
  {
   "cell_type": "code",
   "execution_count": 263,
   "outputs": [
    {
     "data": {
      "text/plain": "(27, 1024)"
     },
     "execution_count": 263,
     "metadata": {},
     "output_type": "execute_result"
    }
   ],
   "source": [
    "np.concatenate((np_emb, label_np_emb), axis=0).shape"
   ],
   "metadata": {
    "collapsed": false,
    "ExecuteTime": {
     "end_time": "2023-06-04T06:57:28.055461Z",
     "start_time": "2023-06-04T06:57:28.036462300Z"
    }
   }
  },
  {
   "cell_type": "code",
   "execution_count": 268,
   "outputs": [
    {
     "data": {
      "text/plain": "<matplotlib.collections.PathCollection at 0x20d0790d4c8>"
     },
     "execution_count": 268,
     "metadata": {},
     "output_type": "execute_result"
    },
    {
     "data": {
      "text/plain": "<Figure size 640x480 with 1 Axes>",
      "image/png": "[encoded data removed]"
     },
     "metadata": {},
     "output_type": "display_data"
    }
   ],
   "source": [
    "from sklearn.decomposition import PCA\n",
    "\n",
    "pca = PCA(2)\n",
    "pca.fit(np.concatenate((np_emb, label_np_emb), axis=0))\n",
    "pc = pca.transform(np_emb)\n",
    "pc1 = pc[:,0]\n",
    "pc2 = pc[:,1]\n",
    "\n",
    "label_pc = pca.transform(label_np_emb)\n",
    "label_pc1 = label_pc[:,0]\n",
    "label_pc2 = label_pc[:,1]\n",
    "plt.scatter(label_pc1, label_pc2,  s=70, marker=',')\n",
    "\n",
    "center_pca = pca.transform(kmeans.cluster_centers_)\n",
    "\n",
    "\n",
    "plt.scatter(pc1, pc2, c=kmeans.labels_, s=70, cmap='Paired')\n",
    "plt.scatter(center_pca[:, 0],\n",
    "            center_pca[:, 1],\n",
    "            marker='^', s=100, linewidth=2,\n",
    "            c=[0, 1, 2])"
   ],
   "metadata": {
    "collapsed": false,
    "ExecuteTime": {
     "end_time": "2023-06-04T07:04:12.095408700Z",
     "start_time": "2023-06-04T07:04:11.756700200Z"
    }
   }
  },
  {
   "cell_type": "code",
   "execution_count": null,
   "outputs": [],
   "source": [],
   "metadata": {
    "collapsed": false
   }
  },
  {
   "cell_type": "code",
   "execution_count": 44,
   "outputs": [
    {
     "data": {
      "text/plain": "array([0, 0, 0, 0, 1, 1, 0, 0, 0, 0, 0, 0, 0, 0, 1, 1, 1, 1, 1, 1, 0, 2,\n       2, 0])"
     },
     "execution_count": 44,
     "metadata": {},
     "output_type": "execute_result"
    }
   ],
   "source": [
    "kmeans.labels_"
   ],
   "metadata": {
    "collapsed": false,
    "ExecuteTime": {
     "end_time": "2023-06-01T04:01:16.120412200Z",
     "start_time": "2023-06-01T04:01:16.086567800Z"
    }
   }
  },
  {
   "cell_type": "code",
   "execution_count": 41,
   "outputs": [
    {
     "data": {
      "text/plain": "array([[1.8875147, 2.4368193, 3.8458095],\n       [2.1125414, 2.376165 , 4.0181   ],\n       [2.1922202, 2.6576107, 4.4775267],\n       [2.472419 , 3.3321526, 4.3292017],\n       [2.8952596, 2.6884267, 4.414578 ],\n       [2.409635 , 1.8145608, 4.0747232],\n       [2.671709 , 3.228286 , 4.4727883],\n       [2.8409727, 3.4722009, 4.3299847],\n       [2.345668 , 3.1948397, 4.1206346],\n       [2.9424274, 3.796294 , 4.6924977],\n       [2.1717768, 2.5577514, 4.1509323],\n       [2.2988849, 2.8845935, 4.430112 ],\n       [2.1677403, 2.908003 , 4.2682676],\n       [2.7006412, 3.3809853, 4.626253 ],\n       [2.7916174, 2.1393073, 4.3147025],\n       [3.3273437, 2.757976 , 4.041887 ],\n       [3.529254 , 3.0727253, 4.471306 ],\n       [2.813436 , 1.89423  , 3.9298942],\n       [2.9368515, 2.0055351, 4.2760143],\n       [2.933595 , 2.1511993, 4.4322977],\n       [2.12886  , 2.6574483, 4.265719 ],\n       [3.8005393, 3.8818672, 2.0329814],\n       [4.235503 , 4.2666497, 2.0329814],\n       [2.9589565, 3.3033164, 3.2040052]], dtype=float32)"
     },
     "execution_count": 41,
     "metadata": {},
     "output_type": "execute_result"
    }
   ],
   "source": [
    "kmeans.transform(embeddings)[:]"
   ],
   "metadata": {
    "collapsed": false,
    "ExecuteTime": {
     "end_time": "2023-06-01T03:56:29.483596500Z",
     "start_time": "2023-06-01T03:56:29.461596600Z"
    }
   }
  },
  {
   "cell_type": "code",
   "execution_count": 133,
   "outputs": [
    {
     "data": {
      "text/plain": "'[1] LONDON, England (Reuters) -- Harry Potter star Daniel Radcliffe gains access to a reported £20 million ($41.1 million) fortune as he turns 18 on Monday, but he insists the money won\\'t cast a spell on him. [/1] [2] Daniel Radcliffe as Harry Potter in \"Harry Potter and the Order of the Phoenix\" To the disappointment of gossip columnists around the world, the young actor says he has no plans to fritter his cash away on fast cars, drink and celebrity parties. [/2] [2] \"I don\\'t plan to be one of those people who, as soon as they turn 18, suddenly buy themselves a massive sports car collection or something similar,\" he told an Australian interviewer earlier this month. [/2] \"I don\\'t think I\\'ll be particularly extravagant. \"The things I like buying are things that cost about 10 pounds -- books and CDs and DVDs.\" At 18, Radcliffe will be able to gamble in a casino, buy a drink in a pub or see the horror film \"Hostel: Part II,\" currently six places below his number one movie on the UK box office chart. Details of how he\\'ll mark his landmark birthday are under wraps. His agent and publicist had no comment on his plans. \"I\\'ll definitely have some sort of party,\" he said in an interview. \"Hopefully none of you will be reading about it.\" [3] Radcliffe\\'s earnings from the first five Potter films have been held in a trust fund which he has not been able to touch. [/3] [2] Despite his growing fame and riches, the actor says he is keeping his feet firmly on the ground. [/2] \"People are always looking to say \\'kid star goes off the rails,\\'\" he told reporters last month. \"But I try very hard not to go that way because it would be too easy for them.\" [1] His latest outing as the boy wizard in \"Harry Potter and the Order of the Phoenix\" is breaking records on both sides of the Atlantic and he will reprise the role in the last two films. [/1] Watch I-Reporter give her review of Potter\\'s latest » . There is life beyond Potter, however. The Londoner has filmed a TV movie called \"My Boy Jack,\" about author Rudyard Kipling and his son, due for release later this year. He will also appear in \"December Boys,\" an Australian film about four boys who escape an orphanage. Earlier this year, he made his stage debut playing a tortured teenager in Peter Shaffer\\'s \"Equus.\" Meanwhile, he is braced for even closer media scrutiny now that he\\'s legally an adult: \"I just think I\\'m going to be more sort of fair game,\" he told Reuters. E-mail to a friend . Copyright 2007 Reuters. All rights reserved.This material may not be published, broadcast, rewritten, or redistributed.'"
     },
     "execution_count": 133,
     "metadata": {},
     "output_type": "execute_result"
    }
   ],
   "source": [
    "ds2[\"train\"][0][\"article\"]"
   ],
   "metadata": {
    "collapsed": false,
    "ExecuteTime": {
     "end_time": "2023-05-31T14:42:28.342122800Z",
     "start_time": "2023-05-31T14:42:28.292117200Z"
    }
   }
  },
  {
   "cell_type": "code",
   "execution_count": 125,
   "outputs": [
    {
     "name": "stdout",
     "output_type": "stream",
     "text": [
      "Cluster 0 closest points: [ 7 59 94]\n",
      "Cluster 1 closest points: [75 35 54]\n",
      "Cluster 2 closest points: [44 97 36]\n"
     ]
    }
   ],
   "source": [
    "import numpy as np\n",
    "from sklearn.cluster import KMeans\n",
    "\n",
    "# 生成随机数据\n",
    "X = np.random.rand(100, 2)\n",
    "\n",
    "# 假设有3个聚类中心\n",
    "kmeans = KMeans(n_clusters=3)\n",
    "\n",
    "# 训练模型\n",
    "kmeans.fit(X)\n",
    "\n",
    "# 对于每个聚类中心，找到距离它最近的三个数据点\n",
    "closest_points = []\n",
    "for i in range(kmeans.n_clusters):\n",
    "    distances = kmeans.transform(X)[:, i]\n",
    "    closest = np.argsort(distances)[:3]\n",
    "    closest_points.append(closest)\n",
    "\n",
    "# 打印结果\n",
    "for i, closest in enumerate(closest_points):\n",
    "    print(f\"Cluster {i} closest points: {closest}\")"
   ],
   "metadata": {
    "collapsed": false,
    "ExecuteTime": {
     "end_time": "2023-05-31T14:11:43.432426400Z",
     "start_time": "2023-05-31T14:11:42.850861500Z"
    }
   }
  },
  {
   "cell_type": "code",
   "execution_count": 238,
   "outputs": [
    {
     "data": {
      "text/plain": "[0,\n 1347,\n 1437,\n 1437,\n 1437,\n 1437,\n 1437,\n 1437,\n 1437,\n 128,\n 1398,\n 17,\n 27,\n 29,\n 8781,\n 108,\n 1310,\n 126,\n 971,\n 4,\n 2]"
     },
     "execution_count": 238,
     "metadata": {},
     "output_type": "execute_result"
    }
   ],
   "source": [
    "tokenizer(\" •        ' Here’s Johnny' scene – 28.\").input_ids"
   ],
   "metadata": {
    "collapsed": false,
    "ExecuteTime": {
     "end_time": "2023-06-03T03:38:04.790581900Z",
     "start_time": "2023-06-03T03:38:04.738569600Z"
    }
   }
  },
  {
   "cell_type": "code",
   "execution_count": 237,
   "outputs": [
    {
     "data": {
      "text/plain": "\" •        ' Here’s Johnny' scene – 28.\""
     },
     "execution_count": 237,
     "metadata": {},
     "output_type": "execute_result"
    }
   ],
   "source": [
    "\" •        ' Here’s Johnny' scene – 28.\""
   ],
   "metadata": {
    "collapsed": false,
    "ExecuteTime": {
     "end_time": "2023-06-03T03:37:38.951888100Z",
     "start_time": "2023-06-03T03:37:38.931887700Z"
    }
   }
  },
  {
   "cell_type": "code",
   "execution_count": 235,
   "outputs": [
    {
     "data": {
      "text/plain": "['<s>',\n 'ĠâĢ¢',\n 'ÂłÂłÂłÂł',\n 'ÂłÂłÂł',\n 'Âł',\n \"'\",\n 'ĠHere',\n 'âĢ',\n 'Ļ',\n 's',\n 'ĠJohnny',\n \"'\",\n 'Ġscene',\n 'ĠâĢĵ',\n 'Ġ28',\n '.',\n '</s>']"
     },
     "execution_count": 235,
     "metadata": {},
     "output_type": "execute_result"
    }
   ],
   "source": [
    "tokenizer.convert_ids_to_tokens([0, 1347, 50144, 50188, 50141, 108, 1398, 17, 27, 29, 8781, 108, 1310, 126, 971, 4, 2])"
   ],
   "metadata": {
    "collapsed": false,
    "ExecuteTime": {
     "end_time": "2023-06-03T03:37:17.243662300Z",
     "start_time": "2023-06-03T03:37:17.210443900Z"
    }
   }
  },
  {
   "cell_type": "code",
   "execution_count": 236,
   "outputs": [
    {
     "data": {
      "text/plain": "['ĠâĢ¢',\n 'ÂłÂłÂłÂłÂłÂłÂłÂł',\n \"Ġ'\",\n 'ĠHere',\n 'âĢ',\n 'Ļ',\n 's',\n 'ĠJohnny',\n \"'\",\n 'Ġscene',\n 'ĠâĢĵ',\n 'Ġ28',\n '.',\n 'Ġ21',\n '%']"
     },
     "execution_count": 236,
     "metadata": {},
     "output_type": "execute_result"
    }
   ],
   "source": [
    "tokenizer.convert_ids_to_tokens([ 1347, 50147,   128,  1398,    17,    27,    29,  8781,   108,  1310,\n",
    "          126,   971,     4,   733,   207])"
   ],
   "metadata": {
    "collapsed": false,
    "ExecuteTime": {
     "end_time": "2023-06-03T03:37:17.561555300Z",
     "start_time": "2023-06-03T03:37:17.537551100Z"
    }
   }
  },
  {
   "cell_type": "code",
   "execution_count": 239,
   "outputs": [
    {
     "name": "stdout",
     "output_type": "stream",
     "text": [
      " By. Kerry Mcdermott. PUBLISHED:. 06: 24 EST, 13 March 2013. |. UPDATED:. 08: 06 EST, 13 March 2013. A mother had to give her two-year-old son the kiss of life when he stopped breathing after mistaking nicotine replacement mints for sweets after an ambulance failed to turn up. Kerry Brown, 27, feared she was going to lose her son, Max, when he collapsed at their home in Huntingdon, Cambridgeshire. Max started vomiting violently after eating the mints containing the equivalent of up to 15 cigarettes-worth of nicotine. However, despite dialling 999, paramedics failed to turn up and after 20 minutes Ms Brown was forced to step in when her son turned blue.'Disgusted' : Kerry Brown said she was forced to take action to save her son Max after they were left waiting more than 20 minutes for an ambulance. She contacted paramedics again but claims she was told that the ambulance would be there in another half an hour.'I had to blow in his mouth to save his life,'said Ms Brown, who added that she was'totally disgusted' with the ambulance service as a result of the ordeal on Sunday.'If my son had died, I don' t know what I would have done.'The two-year-old had been watching television at his grandmother' s house in Huntingdon when he swallowed the mints after finding them in her purse while his mother was out of the room. Horrified Ms Brown dialled 999 when she returned to find Max holding the packet of NiQuitin Minis.'All of a sudden he just went really pale, he had no life in him,'she said. He was going blue so we phoned an ambulance straight away.'My brother phoned the ambulance and they said it was on its way,'said Ms Brown, who has another son and two daughters.'Then Max got a lot worse so we phoned 20 minutes later and they said it would be here in half an hour.'' Pale' : Ms Brown, seen left with Max, said her son had thought the nicotine mints were sweets. Ms Brown' s brother Lee McCool decided to rush his terrified sister and her son to Hinchingbrooke Hospital himself.'We got him in the car and he was going in and out of consciousness,'said Ms Brown.'Then he stopped breathing - I had to blow in his mouth to save his life.'An East of England Ambulance Service spokesman said a rapid response vehicle was dispatched when Ms Brown dialled 999 and was on course to reach the scene within the 30 minute target time set for calls of that nature. He said Ms Brown' s son was conscious and breathing at the time of the call, which was logged as a'category green two', - referring to an incident that is serious but not life-threatening. When the family called a second time, the operator was informed they would be driving the toddler to hospital themselves, and the ambulance on its way to the house was called off.'People must remember that 999 is designed to give life-threatened patients priority. This incident was correctly diagnosed through a thorough clinical call handling process as not life-threatening,'the ambulance service said. Max, who was given emergency treatment and kept in hospital overnight, is now recovering at home with his mother. But Ms Brown said:'If something like this happened again I wouldn' t phone an ambulance.'\n"
     ]
    }
   ],
   "source": [
    "print(tokenizer.decode([0, 870, 479, 9153, 1509, 3624, 119, 5229, 479, 29731, 7976, 14849, 1691, 35, 479, 15007, 35, 706, 12936, 6, 508, 494, 1014, 479, 1721, 479, 121, 44964, 35, 479, 12112, 35, 15007, 12936, 6, 508, 494, 1014, 479, 83, 985, 56, 7, 492, 69, 80, 12, 180, 12, 279, 979, 5, 13301, 9, 301, 77, 37, 2294, 9589, 71, 12241, 7520, 27730, 5010, 19109, 29, 13, 29842, 71, 41, 9121, 1447, 7, 1004, 62, 4, 9153, 1547, 6, 974, 6, 9741, 79, 21, 164, 7, 2217, 69, 979, 6, 4471, 6, 77, 37, 7793, 23, 49, 184, 11, 30709, 7254, 6, 4536, 21676, 5641, 6867, 4, 4471, 554, 23600, 26435, 71, 4441, 5, 19109, 29, 8200, 5, 6305, 9, 62, 7, 379, 14407, 12, 5985, 9, 27730, 4, 635, 6, 1135, 2269, 9391, 31740, 6, 16443, 1447, 7, 1004, 62, 8, 71, 291, 728, 2135, 1547, 21, 1654, 7, 1149, 11, 77, 69, 979, 1224, 2440, 4, 128, 6310, 571, 15876, 108, 4832, 9153, 1547, 26, 79, 21, 1654, 7, 185, 814, 7, 1871, 69, 979, 4471, 71, 51, 58, 314, 2445, 55, 87, 291, 728, 13, 41, 9121, 479, 264, 5590, 16443, 456, 53, 1449, 79, 21, 174, 14, 5, 9121, 74, 28, 89, 11, 277, 457, 41, 1946, 4, 128, 38, 56, 7, 4627, 11, 39, 6085, 7, 1871, 39, 301, 6, 128, 26, 2135, 1547, 6, 54, 355, 14, 79, 21, 128, 4940, 32759, 108, 19, 5, 9121, 544, 25, 10, 898, 9, 5, 17702, 15, 395, 4, 128, 318, 127, 979, 56, 962, 6, 38, 218, 108, 326, 216, 99, 38, 74, 33, 626, 4, 128, 20, 80, 12, 180, 12, 279, 56, 57, 2494, 2384, 23, 39, 8853, 108, 579, 790, 11, 30709, 7254, 77, 37, 32305, 5, 19109, 29, 71, 2609, 106, 11, 69, 15811, 150, 39, 985, 21, 66, 9, 5, 929, 4, 6746, 34115, 2135, 1547, 2269, 9315, 31740, 77, 79, 1835, 7, 465, 4471, 1826, 5, 29635, 9, 11568, 12444, 405, 179, 3635, 354, 4, 128, 404, 9, 10, 7207, 37, 95, 439, 269, 18100, 6, 37, 56, 117, 301, 11, 123, 6, 128, 79, 26, 4, 91, 21, 164, 2440, 98, 52, 7843, 11469, 41, 9121, 1359, 409, 4, 128, 1308, 2138, 7843, 11469, 5, 9121, 8, 51, 26, 24, 21, 15, 63, 169, 6, 128, 26, 2135, 1547, 6, 54, 34, 277, 979, 8, 80, 7172, 4, 128, 1892, 4471, 300, 10, 319, 3007, 98, 52, 7843, 11469, 291, 728, 423, 8, 51, 26, 24, 74, 28, 259, 11, 457, 41, 1946, 4, 128, 128, 37527, 108, 4832, 2135, 1547, 6, 450, 314, 19, 4471, 6, 26, 69, 979, 56, 802, 5, 27730, 19109, 29, 58, 29842, 479, 2135, 1547, 108, 579, 2138, 2094, 3409, 8110, 1276, 7, 6187, 39, 19419, 2761, 8, 69, 979, 7, 289, 3796, 154, 7450, 5361, 2392, 1003, 4, 128, 166, 300, 123, 11, 5, 512, 8, 37, 21, 164, 11, 8, 66, 9, 16253, 6, 128, 26, 2135, 1547, 4, 128, 1892, 37, 2294, 9589, 111, 38, 56, 7, 4627, 11, 39, 6085, 7, 1871, 39, 301, 4, 128, 660, 953, 9, 1156, 8387, 922, 2389, 1841, 1565, 26, 10, 6379, 1263, 1155, 21, 14987, 77, 2135, 1547, 2269, 9315, 31740, 8, 21, 15, 768, 7, 1338, 5, 1310, 624, 5, 389, 2289, 1002, 86, 278, 13, 1519, 9, 14, 2574, 4, 91, 26, 2135, 1547, 108, 579, 979, 21, 13316, 8, 9589, 23, 5, 86, 9, 5, 486, 6, 61, 21, 13959, 25, 10, 128, 4120, 2272, 80, 108, 2156, 111, 5056, 7, 41, 1160, 14, 16, 1473, 53, 45, 301, 12, 10940, 4, 520, 5, 284, 373, 10, 200, 86, 6, 5, 5364, 21, 3978, 51, 74, 28, 1428, 5, 16290, 7, 1098, 1235, 6, 8, 5, 9121, 15, 63, 169, 7, 5, 790, 21, 373, 160, 4, 128, 1806, 531, 2145, 14, 31740, 16, 1887, 7, 492, 301, 12, 25836, 4490, 1484, 3887, 4, 152, 1160, 21, 12461, 6443, 149, 10, 10675, 5154, 486, 5516, 609, 25, 45, 301, 12, 10940, 6, 128, 5, 9121, 544, 26, 4, 4471, 6, 54, 21, 576, 1923, 1416, 8, 1682, 11, 1098, 4427, 6, 16, 122, 7979, 23, 184, 19, 39, 985, 4, 125, 2135, 1547, 26, 35, 128, 318, 402, 101, 42, 1102, 456, 38, 1979, 108, 326, 1028, 41, 9121, 4, 128, 1437, 2], skip_special_tokens=True))"
   ],
   "metadata": {
    "collapsed": false,
    "ExecuteTime": {
     "end_time": "2023-06-03T03:52:38.141223100Z",
     "start_time": "2023-06-03T03:52:38.060222400Z"
    }
   }
  },
  {
   "cell_type": "code",
   "execution_count": 286,
   "outputs": [
    {
     "data": {
      "text/plain": "'<s>'"
     },
     "execution_count": 286,
     "metadata": {},
     "output_type": "execute_result"
    }
   ],
   "source": [
    "tokenizer.decode([0])"
   ],
   "metadata": {
    "collapsed": false,
    "ExecuteTime": {
     "end_time": "2023-06-05T13:54:53.695670Z",
     "start_time": "2023-06-05T13:54:53.649669800Z"
    }
   }
  },
  {
   "cell_type": "code",
   "execution_count": 290,
   "outputs": [
    {
     "data": {
      "text/plain": "{'bos_token': '<s>',\n 'eos_token': '</s>',\n 'unk_token': '<unk>',\n 'sep_token': '</s>',\n 'pad_token': '<pad>',\n 'cls_token': '<s>',\n 'mask_token': '<mask>'}"
     },
     "execution_count": 290,
     "metadata": {},
     "output_type": "execute_result"
    }
   ],
   "source": [
    "tokenizer.padding_token"
   ],
   "metadata": {
    "collapsed": false,
    "ExecuteTime": {
     "end_time": "2023-06-05T13:55:33.041946600Z",
     "start_time": "2023-06-05T13:55:33.002946600Z"
    }
   }
  },
  {
   "cell_type": "code",
   "execution_count": 149,
   "outputs": [
    {
     "data": {
      "text/plain": "{'input_ids': [0, 3941, 333, 3861, 3941, 3075, 5340, 5, 709, 4, 22, 2], 'attention_mask': [1, 1, 1, 1, 1, 1, 1, 1, 1, 1, 1, 1]}"
     },
     "execution_count": 149,
     "metadata": {},
     "output_type": "execute_result"
    }
   ],
   "source": [
    "tokenizer(' Rights group Human Rights Watch welcomed the development. \"')"
   ],
   "metadata": {
    "collapsed": false,
    "ExecuteTime": {
     "end_time": "2023-06-01T14:10:22.898222Z",
     "start_time": "2023-06-01T14:10:22.849215900Z"
    }
   }
  },
  {
   "cell_type": "code",
   "execution_count": 151,
   "outputs": [
    {
     "ename": "AttributeError",
     "evalue": "'Tensor' object has no attribute 'to_list'",
     "output_type": "error",
     "traceback": [
      "\u001B[1;31m---------------------------------------------------------------------------\u001B[0m",
      "\u001B[1;31mAttributeError\u001B[0m                            Traceback (most recent call last)",
      "\u001B[1;32m~\\AppData\\Local\\Temp\\ipykernel_31676\\2703168836.py\u001B[0m in \u001B[0;36m<module>\u001B[1;34m\u001B[0m\n\u001B[1;32m----> 1\u001B[1;33m \u001B[0mtorch\u001B[0m\u001B[1;33m.\u001B[0m\u001B[0mmean\u001B[0m\u001B[1;33m(\u001B[0m\u001B[0mtorch\u001B[0m\u001B[1;33m.\u001B[0m\u001B[0mtensor\u001B[0m\u001B[1;33m(\u001B[0m\u001B[1;33m[\u001B[0m\u001B[1;33m[\u001B[0m\u001B[1;36m1.\u001B[0m\u001B[1;33m,\u001B[0m \u001B[1;36m2.\u001B[0m\u001B[1;33m]\u001B[0m\u001B[1;33m,\u001B[0m \u001B[1;33m[\u001B[0m\u001B[1;36m3.\u001B[0m\u001B[1;33m,\u001B[0m \u001B[1;36m4.\u001B[0m\u001B[1;33m]\u001B[0m\u001B[1;33m]\u001B[0m\u001B[1;33m)\u001B[0m\u001B[1;33m,\u001B[0m \u001B[0mdim\u001B[0m\u001B[1;33m=\u001B[0m\u001B[1;36m0\u001B[0m\u001B[1;33m)\u001B[0m\u001B[1;33m.\u001B[0m\u001B[0mto_list\u001B[0m\u001B[1;33m(\u001B[0m\u001B[1;33m)\u001B[0m\u001B[1;33m\u001B[0m\u001B[1;33m\u001B[0m\u001B[0m\n\u001B[0m",
      "\u001B[1;31mAttributeError\u001B[0m: 'Tensor' object has no attribute 'to_list'"
     ]
    }
   ],
   "source": [
    "torch.mean(torch.tensor([[1., 2.], [3., 4.]]), dim=0).cpu().numpy().tolist()"
   ],
   "metadata": {
    "collapsed": false,
    "ExecuteTime": {
     "end_time": "2023-06-02T03:38:14.827104500Z",
     "start_time": "2023-06-02T03:38:14.768536200Z"
    }
   }
  },
  {
   "cell_type": "code",
   "execution_count": 273,
   "outputs": [
    {
     "name": "stderr",
     "output_type": "stream",
     "text": [
      "WARNING:datasets.arrow_dataset:Loading cached processed dataset at D:\\ProgramData\\huggingface\\datasets\\cnn_dailymail\\3.0.0\\3.0.0\\1b3c71476f6d152c31c1730e83ccb08bcf23e348233f4fcc11e182248e6bf7de\\cache-ab001144c896f066.arrow\n",
      "WARNING:datasets.arrow_dataset:Loading cached processed dataset at D:\\ProgramData\\huggingface\\datasets\\cnn_dailymail\\3.0.0\\3.0.0\\1b3c71476f6d152c31c1730e83ccb08bcf23e348233f4fcc11e182248e6bf7de\\cache-70cf9a3d64953d2a.arrow\n",
      "WARNING:datasets.arrow_dataset:Loading cached processed dataset at D:\\ProgramData\\huggingface\\datasets\\cnn_dailymail\\3.0.0\\3.0.0\\1b3c71476f6d152c31c1730e83ccb08bcf23e348233f4fcc11e182248e6bf7de\\cache-51f46f2c087457ac.arrow\n"
     ]
    },
    {
     "name": "stdout",
     "output_type": "stream",
     "text": [
      "1f4f11f6731f5338f3bf16ed3ec701716fade2ff\n",
      "----------\n",
      "Los Angeles (CNN) -- Jon Voight calls fellow actors Javier Bardem and Penelope Cruz \"obviously ignorant\" and warns a \"poison letter\" they signed \"could incite anti-Semitism all over the world.\" Voight wrote in an opinion column published by the Hollywood Reporter on Sunday that Bardem and Cruz \"should hang your heads in shame\" and \"ask forgiveness from the suffering people in Israel.\" Bardem and Cruz, who are married, co-signed a letter last week attacking Israel's treatment of Gaza. The actors were immediately attacked for their words, prompting both to issue statements saying they were just making pleas for peace. Celebs step into Israel-Gaza PR minefield . \"I am now being labeled by some as anti-Semitic, as is my wife -- which is the antithesis of who we are as human beings,\" Bardem said in his follow-up statement.Â \"We detest anti-Semitism as much as we detest the horrible and painful consequences of war.\" Cruz, who said she was \"not an expert on the situation,\" said in her follow-up statement that her \"only wish and intention in signing that group letter is the hope that there will be peace in both Israel and Gaza.\" Voight, Bardem and Cruz are all Oscar-winning actors, which often gives them a louder platform to promote their opinions. \"You had a great responsibility to use your celebrity for good,\" Voight wrote. \"Instead, you have defamed the only democratic country of goodwill in the Middle East: Israel.\" Voight, who he was \"more than angry,\" use his soapbox to give a history lesson about Arab attacks on Israel since 1948 when the country was created through the United Nations, including the 1967 and 1973 wars. \"And when Israel was not fighting a major war, it was defending itself against terrorist campaigns,\" he wrote. \"After years of trying to make peace, the wars they had to fight, being attacked by their enemies, and still being attacked, and finally after years of running into bomb shelters and having hundreds of civilians killed by suicide bombers, civilians being killed in their sleep, stabbed to pieces, finding enough is enough and finally retaliating, instead of my peers sticking up for the only democratic country in that region, they go and take out poison letters against them,\" Voight wrote. Voight called on the actors who signed \"that poison letter against Israel\" to \"examine their motives.\" \"Can you take back the fire of anti-Semitism that is raging all over the world now?\" he asked. Representatives for Bardem and Cruz did not immediately respond to CNN requests for reaction to Voight's comments. For some Americans, Gaza conflict strikes close to home .\n",
      "----------\n",
      "Jon Voight writes he's \"more than angry\" about Javier Bardem, Penelope Cruz .\n",
      "Voight wrote an opinion column for the Hollywood Reporter reacting to their letter .\n",
      "Bardem and Cruz \"should hang your heads in shame,\" Voight says .\n",
      "Â \"We detest anti-Semitism,\" Bardem says in a follow up to his Israel-Gaza letter .\n"
     ]
    },
    {
     "data": {
      "text/plain": "'Jon Voight writes he\\'s \"more than angry\" about Javier Bardem, Penelope Cruz .\\nVoight wrote an opinion column for the Hollywood Reporter reacting to their letter .\\nBardem and Cruz \"should hang your heads in shame,\" Voight says .\\nÂ\\xa0\"We detest anti-Semitism,\" Bardem says in a follow up to his Israel-Gaza letter .'"
     },
     "execution_count": 273,
     "metadata": {},
     "output_type": "execute_result"
    }
   ],
   "source": [
    "substring = \"\\xa0\"\n",
    "# filtered_dataset = dataset.filter(lambda example: substring in example['article'])\n",
    "filtered_dataset = dataset.filter(lambda example: substring in example['highlights'])\n",
    "print(filtered_dataset['train'][0]['id'])\n",
    "print('-' * 10)\n",
    "print(filtered_dataset['train'][0]['article'])\n",
    "print('-' * 10)\n",
    "print(filtered_dataset['train'][0]['highlights'])\n",
    "filtered_dataset['train'][0]['highlights']"
   ],
   "metadata": {
    "collapsed": false,
    "ExecuteTime": {
     "end_time": "2023-06-04T08:03:21.336910900Z",
     "start_time": "2023-06-04T08:03:21.241913400Z"
    }
   }
  },
  {
   "cell_type": "code",
   "execution_count": 272,
   "outputs": [
    {
     "data": {
      "text/plain": "DatasetDict({\n    train: Dataset({\n        features: ['article', 'highlights', 'id'],\n        num_rows: 16969\n    })\n    validation: Dataset({\n        features: ['article', 'highlights', 'id'],\n        num_rows: 2857\n    })\n    test: Dataset({\n        features: ['article', 'highlights', 'id'],\n        num_rows: 2231\n    })\n})"
     },
     "execution_count": 272,
     "metadata": {},
     "output_type": "execute_result"
    }
   ],
   "source": [
    "filtered_dataset"
   ],
   "metadata": {
    "collapsed": false,
    "ExecuteTime": {
     "end_time": "2023-06-04T08:02:54.438832100Z",
     "start_time": "2023-06-04T08:02:54.365724700Z"
    }
   }
  },
  {
   "cell_type": "code",
   "execution_count": null,
   "outputs": [],
   "source": [
    "'(CNN) -- Calls by Vice President Joe Biden and Secretary Hillary Clinton to \"unite the world in the isolation of and dealing with the Iranians,\" in response to an alleged Iranian plot to kill Saudi Arabia\\'s Ambassador in Washington, reflect a hubristic misapprehension of reality. The Obama Administration mistakenly believes it can exploit the accusations for strategic advantage. In fact, they are likely to play to Iran\\'s advantage, not America\\'s. The U.S. foreign policy community profoundly misunderstands the Islamic Republic\\'s national security strategy. The Islamic Republic seeks to defend itself not primarily by conventional military power, in which it is deficient, but by forging ties to proxy allies around the region-actors with the ability to affect on-the-ground outcomes in key regional settings who are inclined to cooperate with Tehran. In some cases, these actors are discrete political movements, often with paramilitary capabilities, for example, Hezbollah in Lebanon and Shia political parties-cum-militias in Iraq. In other situations, Tehran sees public opinion as its chief ally. By contrasting some regimes\\' cooperation with the United States and Israel with its own posture of \"resistance\" to American and Israeli ambitions to regional hegemony, Tehran cultivates \"soft power\" across the Middle East. Iran conceives its strategy, especially in a period of relative decline in America\\'s standing, as one that constrains unfriendly regimes in the short term and undermines them in the longer term. Over the last decade, it has helped the Islamic Republic reap significant political and strategic gains in important theaters across the Middle East-Iraq, Lebanon, the Palestinian territories. With the advent of the Arab awakening at the end of last year, Iranian decision-makers are confident that some Arab states\\' shift toward governments more reflective of their peoples\\' attitudes and concerns-and, hence, more inclined to pursue more independent foreign policies vis-Ã\\xa0-vis the United States and Israel-will work to Iran\\'s advantage. Iranian policymakers correctly calculated that virtually any successor to Saddam Hussein \\'s regime in Iraq would be a net positive for Iranian interests. Now, they calculate that a successor to the Mubarak regime in Egypt is bound to be less enthusiastic about strategic cooperation with the United States and Israel and more receptive to Iran\\'s message of resistance. Iran\\'s strategy toward Saudi Arabia runs very much along these lines. Tehran\\'s approach is to highlight Saudi collusion with Washington and (at least indirectly) with Israel on important regional issues, thereby attracting support from ordinary Saudis-not just Saudi Shia but also Sunnis who dislike their government\\'s pro-American stance. In the short term, Iran seeks to constrain the Saudi government from cooperating in military strikes or other coercive actions against it by making this an unpopular prospect for much of the Saudi population. In the longer term, Iran is working to transform the regional balance of power from one in which the United States, the Saudis, and other American allies dominate to one in which American, Israeli, and Saudi influence is marginalized by the diplomatic realignment of Lebanon, the Palestinian territories, Turkey, post-Saddam Iraq, and now Egypt. The Saudi leadership tries to push back by portraying Iran as an \"alien\", Shia/Persian element in its environment. At times, this helps the Kingdom hold the line against the Islamic Republic\\'s soft power offensive. But the long-term trend is toward rising Iranian influence. In this context, the notion of an Iranian government plot to assassinate the Saudi Ambassador to the United States simply has no logic. History also suggests we treat the Obama Administration\\'s claims of Iranian government complicity with deep skepticism. For eight years, during 1980-1988, the fledgling Islamic Republic had to defend itself against a war of aggression launched by Saddam Hussein -- a war of aggression financed primarily by Saudi Arabia. Nearly 300,000 Iranians were killed in that war. But, during the entire conflict, the Iranian government never targeted a single Saudi anywhere in the world. This is not because the Islamic Republic loves the Kingdom of Saudi Arabia. It is because Iran\\'s national security strategy ultimately depends on appealing to the Saudi public not to support attacks against Iran, by harnessing popular anger over Israeli actions and U.S. overreach in the war on terror. Killing a Saudi Ambassador would have exactly the opposite effect. Whatever Mansour Ababsiar and his cousin may have talked about, it is wholly implausible that the Iranian leadership decided that this was a smart thing to do. The Obama Administration\\'s calls for more concerted action against Iran will ultimately backfire-because they will be seen in most of the Muslim world (outside Saudi Arabia and Gulf Arab monarchies closely linked to Saudi Arabia) as the United States yet again leveling dubious life-and-death charges as the pretext to contain or even eliminate another Muslim power. President Obama, his advisers, and all Americans need to ask themselves if this is really the time to bring the United States even closer to another Middle East war fought in blind defiance of the region\\'s strategic realities. The opinions expressed in this commentary are solely those of Flynt Leverett and Hillary Mann Leverett.',\n",
    " 'Flynt Leverett and Hillary Mann Leveret say Joe Biden and Hillary Clinton reflect a hubristic version of reality .\\nThey also say U.S. foreign policy misunderstands the Islamic Republic\\'s national security strategy .\\nAnd that Saudi leadership is trying to push back by portraying Iran as an \"alien\", Shia/Persian element in its environment .\\nThe Obama Administration\\'s \"calls for more concerted action against Iran will ultimately backfire\"')"
   ],
   "metadata": {
    "collapsed": false
   }
  },
  {
   "cell_type": "code",
   "execution_count": 223,
   "outputs": [
    {
     "data": {
      "text/plain": "\"By . Victoria Woollaston . What makes a film scary divides opinion - some people prefer tense psychological thrillers, while others want jumpy, edge-of-their seat emotional rollercoasters. In an attempt to put an end to this debate, Japanese-owned website Rakuten's Play.com asked people to vote on which horror films they considered to be the most terrifying. They then wired a selection of viewers up to heart monitors and tracked changes in their pulse to determine exactly which of the top movie moments got their hearts racing the most. The winner was the iconic 'Here's Johnny' scene from 1980 film The Shining, which made pulses race and jump by 28.21 per cent. The Shining, and its 'Here's Johnny' scene made pulses race the most, making them jump by 28.21 per cent . A Nightmare on Elm Street had the . greatest physical effect overall, increasing audience members’ heart rates by . 26.8 per cent on average, but the poll results combined with the individual scariest scene scores put The Shining on top. During September 10,000 Rakuten’s Play.com customers voted for the scariest horror films of all time, with Stanley Kubrick's classic The Shining coming out on top. The 1973 religious thriller The Exorcist came second, while Wes Craven's original Nightmare on Elm Street from 1984 was in third place. To identify the scariest scenes and . scariest film overall, Rakuten’s Play.com analysed spikes in heart rates . during each screening. The scariest scene was calculated by . identifying the percentage increases in individual audience members’ heart rates during spikes that occurred at the same time. These were . compared to each member’s average heart rate during each film to . calculate the percentage increase in heart rates of each spike. These . percentage increases were then added together and compared with other . spikes to find the highest percentage increase of each individual scene. Across all three films, the average heart rates increased by 25.3 per cent up to . 100.1bpm (beats per minute). Top 10 scariest films voted by Play.com users . •         The Shining (1980) •         The Exorcist (1973) •         A Nightmare On Elm Street (1984) •         Ring (aka Ringu) (1998) •         Alien (1979) •         The Silence of the Lambs (1990) •         Poltergeist (1982) •         Insidious (2010) •         Halloween (1978) •         Saw (2004) Top three scariest moments from each film . The Shining . •         'Here’s Johnny' scene – 28.21% increase in average heart rate . •         Twin girls scene ('Come and Play')  – 23.10% increase in average heart rate . •         'Red Rum' scene –  21.00% increase in average heart rate . Nightmare on Elm Street . •         'Fight Fire with Fire' (where Nancy Thompson brings Freddy Krueger into . the real world from her dream) –  26.70% increase in average heart rate . •         'No Way Out' (where Johnny Depp’s character, Glen Lantz, is murdered by . Freddy and his bedroom fills with blood) – 26.24% increase in average . heart rate . •         'A . Bloody Mess' (where Tina Gray is murdered by Freddy in front of her . boyfriend Rod Lane) – 26.20% increase in average heart rate . The Exorcist . •         'Attic noises' (where Christine MacNeil investigates a strange noise in . her attic) – 24.80% increase in average heart rate . •         'Take me!' (Father Karras is possessed and sacrifices himself) – 23.66% increase in average heart rate . •         'I cast you out' (the initial exorcism attempt by Father Karras and . Father Merrin) – 18.33% increase in average heart rate . The Exorcist's 'Attic noises' scene, where Christine MacNeil investigates a strange noise in her attic, caused a 24.8% increase in average heart rate . To identify the scariest scenes and . scariest film overall, Rakuten’s Play.com analysed spikes in heart rates . during each screening. The scariest scene was calculated by . identifying the percentage increases in individual audience members’ heart rates during spikes that occurred at the same time. These were . compared to each member’s average heart rate during each film to . calculate the percentage increase in heart rates of each spike. These . percentage increases were then added together and compared with other . spikes to find the highest percentage increase of each individual scene. The scariest film was calculated by . identifying the top three spikes in each audience member’s heart rate . during each film. The percentage increase of each spike was calculated . by comparing it to each audience member’s average heart rate throughout . each film. These were added together and divided by the number of . audience members being monitored, to give an overall average increase. The . peak average increases across each of the three films were at 101.8bpm for A Nightmare on Elm Street, . 101.6bpm for The Shining and 96.8bpm for The Exorcist. Several scenes from A Nightmare on Elm . Street were close behind The Shining's top spot, including the gruesome murder scenes of Johnny . Depp’s character, Glen Lantz, (26.24 per cent increase) and Tina Gray (26.20 per cent . increase). The moment lead character Freddy Krueger, played by Robert Englund, is brought into the real world . from Nancy Thompson’s dream sequence saw a 26.7 per cent increase. 'It’s interesting to see just how close . the top three films’ scare ratings were:' Shingo Murakami, managing director of Rakuten’s Play.com told MailOnline. Taking the . overall average increase of 100.1bpm (25.3 per cent), the top three horror films . just pushed audience heart rate’s into the light exercise zone by . 3.1bpm. Target heart rate for ‘light exercise’ calculated as 50-85 per cent of peak heart rate, based on the age of each audience . member, as defined by the American Heart Organisation. As part of the screening, audience . members were asked what they considered frightened them the most. The . response was typically spiders, snakes, ghosts, death and being buried . alive. The gruesome murder scenes of Johnny Depp's character, Glen Lantz, in A Nightmare on Elm Street caused a 26.24 per cent increase in heart rate .\""
     },
     "execution_count": 223,
     "metadata": {},
     "output_type": "execute_result"
    }
   ],
   "source": [
    "import unicodedata\n",
    "s = filtered_dataset['train'][0]['article']\n",
    "unicodedata.normalize('NFKC', s)"
   ],
   "metadata": {
    "collapsed": false,
    "ExecuteTime": {
     "end_time": "2023-06-03T02:41:03.928900800Z",
     "start_time": "2023-06-03T02:41:03.919901800Z"
    }
   }
  },
  {
   "cell_type": "code",
   "execution_count": 233,
   "outputs": [
    {
     "data": {
      "text/plain": "' 1'"
     },
     "execution_count": 233,
     "metadata": {},
     "output_type": "execute_result"
    }
   ],
   "source": [
    "unicodedata.normalize('NFKC', '\\u30001')"
   ],
   "metadata": {
    "collapsed": false,
    "ExecuteTime": {
     "end_time": "2023-06-03T02:48:50.037993900Z",
     "start_time": "2023-06-03T02:48:50.026994800Z"
    }
   }
  },
  {
   "cell_type": "code",
   "execution_count": 213,
   "outputs": [
    {
     "data": {
      "text/plain": "  0%|          | 0/288 [00:00<?, ?ba/s]",
      "application/vnd.jupyter.widget-view+json": {
       "version_major": 2,
       "version_minor": 0,
       "model_id": "17ebbbb83a1641e58777a20c78a30895"
      }
     },
     "metadata": {},
     "output_type": "display_data"
    },
    {
     "data": {
      "text/plain": "  0%|          | 0/14 [00:00<?, ?ba/s]",
      "application/vnd.jupyter.widget-view+json": {
       "version_major": 2,
       "version_minor": 0,
       "model_id": "702f5ee6c04f4b21a5bd3afdee6f02ac"
      }
     },
     "metadata": {},
     "output_type": "display_data"
    },
    {
     "data": {
      "text/plain": "  0%|          | 0/12 [00:00<?, ?ba/s]",
      "application/vnd.jupyter.widget-view+json": {
       "version_major": 2,
       "version_minor": 0,
       "model_id": "e6302ad4727f4d06a34f73d283ba4851"
      }
     },
     "metadata": {},
     "output_type": "display_data"
    },
    {
     "data": {
      "text/plain": "DatasetDict({\n    train: Dataset({\n        features: ['article', 'highlights', 'id'],\n        num_rows: 74\n    })\n    validation: Dataset({\n        features: ['article', 'highlights', 'id'],\n        num_rows: 5\n    })\n    test: Dataset({\n        features: ['article', 'highlights', 'id'],\n        num_rows: 5\n    })\n})"
     },
     "execution_count": 213,
     "metadata": {},
     "output_type": "execute_result"
    }
   ],
   "source": [
    "bad_dataset = dataset.filter(lambda example: len(sent_tokenize(example['article'])) <= 3)\n",
    "bad_dataset"
   ],
   "metadata": {
    "collapsed": false,
    "ExecuteTime": {
     "end_time": "2023-06-02T11:44:51.778273300Z",
     "start_time": "2023-06-02T11:40:30.438259700Z"
    }
   }
  },
  {
   "cell_type": "code",
   "execution_count": 161,
   "outputs": [
    {
     "name": "stderr",
     "output_type": "stream",
     "text": [
      "WARNING:datasets.arrow_dataset:Loading cached processed dataset at D:\\ProgramData\\huggingface\\datasets\\cnn_dailymail\\3.0.0\\3.0.0\\1b3c71476f6d152c31c1730e83ccb08bcf23e348233f4fcc11e182248e6bf7de\\cache-7788176d82732e70.arrow\n",
      "WARNING:datasets.arrow_dataset:Loading cached processed dataset at D:\\ProgramData\\huggingface\\datasets\\cnn_dailymail\\3.0.0\\3.0.0\\1b3c71476f6d152c31c1730e83ccb08bcf23e348233f4fcc11e182248e6bf7de\\cache-c511494cc33a7e2a.arrow\n",
      "WARNING:datasets.arrow_dataset:Loading cached processed dataset at D:\\ProgramData\\huggingface\\datasets\\cnn_dailymail\\3.0.0\\3.0.0\\1b3c71476f6d152c31c1730e83ccb08bcf23e348233f4fcc11e182248e6bf7de\\cache-c37563450cc61ead.arrow\n"
     ]
    },
    {
     "data": {
      "text/plain": "DatasetDict({\n    train: Dataset({\n        features: ['article', 'highlights', 'id'],\n        num_rows: 287112\n    })\n    validation: Dataset({\n        features: ['article', 'highlights', 'id'],\n        num_rows: 13368\n    })\n    test: Dataset({\n        features: ['article', 'highlights', 'id'],\n        num_rows: 11490\n    })\n})"
     },
     "execution_count": 161,
     "metadata": {},
     "output_type": "execute_result"
    }
   ],
   "source": [
    "bad_ids = {\"0405e4119ac6c1eb83bff8dcc69953a8691d737b\"}\n",
    "removed_dataset = dataset.filter(lambda example: example['id'] not in bad_ids)\n",
    "removed_dataset"
   ],
   "metadata": {
    "collapsed": false,
    "ExecuteTime": {
     "end_time": "2023-06-02T04:01:45.964597600Z",
     "start_time": "2023-06-02T04:01:45.904596200Z"
    }
   }
  },
  {
   "cell_type": "code",
   "execution_count": 158,
   "outputs": [
    {
     "data": {
      "text/plain": "'LONDON, England (Reuters) -- Harry Potter star Daniel Radcliffe gains access to a reported £20 million ($41.1 million) fortune as he turns 18 on Monday, but he insists the money won\\'t cast a spell on him. Daniel Radcliffe as Harry Potter in \"Harry Potter and the Order of the Phoenix\" To the disappointment of gossip columnists around the world, the young actor says he has no plans to fritter his cash away on fast cars, drink and celebrity parties. \"I don\\'t plan to be one of those people who, as soon as they turn 18, suddenly buy themselves a massive sports car collection or something similar,\" he told an Australian interviewer earlier this month. \"I don\\'t think I\\'ll be particularly extravagant. \"The things I like buying are things that cost about 10 pounds -- books and CDs and DVDs.\" At 18, Radcliffe will be able to gamble in a casino, buy a drink in a pub or see the horror film \"Hostel: Part II,\" currently six places below his number one movie on the UK box office chart. Details of how he\\'ll mark his landmark birthday are under wraps. His agent and publicist had no comment on his plans. \"I\\'ll definitely have some sort of party,\" he said in an interview. \"Hopefully none of you will be reading about it.\" Radcliffe\\'s earnings from the first five Potter films have been held in a trust fund which he has not been able to touch. Despite his growing fame and riches, the actor says he is keeping his feet firmly on the ground. \"People are always looking to say \\'kid star goes off the rails,\\'\" he told reporters last month. \"But I try very hard not to go that way because it would be too easy for them.\" His latest outing as the boy wizard in \"Harry Potter and the Order of the Phoenix\" is breaking records on both sides of the Atlantic and he will reprise the role in the last two films.  Watch I-Reporter give her review of Potter\\'s latest » . There is life beyond Potter, however. The Londoner has filmed a TV movie called \"My Boy Jack,\" about author Rudyard Kipling and his son, due for release later this year. He will also appear in \"December Boys,\" an Australian film about four boys who escape an orphanage. Earlier this year, he made his stage debut playing a tortured teenager in Peter Shaffer\\'s \"Equus.\" Meanwhile, he is braced for even closer media scrutiny now that he\\'s legally an adult: \"I just think I\\'m going to be more sort of fair game,\" he told Reuters. E-mail to a friend . Copyright 2007 Reuters. All rights reserved.This material may not be published, broadcast, rewritten, or redistributed.'"
     },
     "execution_count": 158,
     "metadata": {},
     "output_type": "execute_result"
    }
   ],
   "source": [
    "dataset['train'][0]['article']"
   ],
   "metadata": {
    "collapsed": false,
    "ExecuteTime": {
     "end_time": "2023-06-02T03:57:46.532035800Z",
     "start_time": "2023-06-02T03:57:46.455033700Z"
    }
   }
  },
  {
   "cell_type": "code",
   "execution_count": 134,
   "outputs": [
    {
     "data": {
      "text/plain": "tensor(nan)"
     },
     "execution_count": 134,
     "metadata": {},
     "output_type": "execute_result"
    }
   ],
   "source": [
    "\n",
    "torch.mean(torch.stack([torch.tensor(float('nan')), torch.tensor(float(1))]))"
   ],
   "metadata": {
    "collapsed": false,
    "ExecuteTime": {
     "end_time": "2023-06-01T12:39:47.614674600Z",
     "start_time": "2023-06-01T12:39:47.598677700Z"
    }
   }
  },
  {
   "cell_type": "code",
   "execution_count": 140,
   "outputs": [
    {
     "data": {
      "text/plain": "torch.Size([2])"
     },
     "execution_count": 140,
     "metadata": {},
     "output_type": "execute_result"
    }
   ],
   "source": [
    "torch.stack([torch.tensor(float('nan')), torch.tensor(float(1))]).size()"
   ],
   "metadata": {
    "collapsed": false,
    "ExecuteTime": {
     "end_time": "2023-06-01T13:21:42.342665500Z",
     "start_time": "2023-06-01T13:21:42.307664700Z"
    }
   }
  },
  {
   "cell_type": "code",
   "execution_count": 138,
   "outputs": [
    {
     "data": {
      "text/plain": "True"
     },
     "execution_count": 138,
     "metadata": {},
     "output_type": "execute_result"
    }
   ],
   "source": [
    "torch.any(torch.isnan(torch.stack([torch.tensor(float('nan')), torch.tensor(float(1))]))).item()\n"
   ],
   "metadata": {
    "collapsed": false,
    "ExecuteTime": {
     "end_time": "2023-06-01T12:48:14.653868100Z",
     "start_time": "2023-06-01T12:48:14.632861800Z"
    }
   }
  },
  {
   "cell_type": "code",
   "execution_count": 244,
   "outputs": [
    {
     "name": "stdout",
     "output_type": "stream",
     "text": [
      "5.0\n"
     ]
    }
   ],
   "source": [
    "import pandas as pd\n",
    "\n",
    "# 创建一个 DataFrame\n",
    "df = pd.DataFrame({'A': [1, 2, 3], 'B': [4, 5, 6]})\n",
    "\n",
    "# 使用 .mean() 方法取出 'B' 列的平均值\n",
    "mean_value = df['B'].mean()\n",
    "\n",
    "print(mean_value)  # 输出 5.0\n"
   ],
   "metadata": {
    "collapsed": false,
    "ExecuteTime": {
     "end_time": "2023-06-03T13:18:03.925010800Z",
     "start_time": "2023-06-03T13:18:03.863911100Z"
    }
   }
  },
  {
   "cell_type": "code",
   "execution_count": 276,
   "outputs": [
    {
     "name": "stdout",
     "output_type": "stream",
     "text": [
      "epoch_4\n",
      "epoch_4\n"
     ]
    }
   ],
   "source": [
    "path = os.path.basename(\"model/bart_cnn-dailymail/epoch_4\")\n",
    "print(path)\n",
    "training_difference = os.path.splitext(path)[0]\n",
    "print(training_difference)"
   ],
   "metadata": {
    "collapsed": false,
    "ExecuteTime": {
     "end_time": "2023-06-05T03:42:43.635641300Z",
     "start_time": "2023-06-05T03:42:43.607642300Z"
    }
   }
  },
  {
   "cell_type": "code",
   "execution_count": 278,
   "outputs": [
    {
     "data": {
      "text/plain": "tensor([1, 1])"
     },
     "execution_count": 278,
     "metadata": {},
     "output_type": "execute_result"
    }
   ],
   "source": [
    "torch.stack([torch.tensor(1), torch.tensor(1)])"
   ],
   "metadata": {
    "collapsed": false,
    "ExecuteTime": {
     "end_time": "2023-06-05T11:54:02.089143100Z",
     "start_time": "2023-06-05T11:54:02.062144Z"
    }
   }
  },
  {
   "cell_type": "code",
   "execution_count": 281,
   "outputs": [
    {
     "data": {
      "text/plain": "3"
     },
     "execution_count": 281,
     "metadata": {},
     "output_type": "execute_result"
    }
   ],
   "source": [
    "torch.tensor([1, 1, 0]).size()[0]"
   ],
   "metadata": {
    "collapsed": false,
    "ExecuteTime": {
     "end_time": "2023-06-05T11:56:22.105792400Z",
     "start_time": "2023-06-05T11:56:22.078792800Z"
    }
   }
  },
  {
   "cell_type": "code",
   "execution_count": 285,
   "outputs": [
    {
     "data": {
      "text/plain": "['i love you.', 'i love you.']"
     },
     "execution_count": 285,
     "metadata": {},
     "output_type": "execute_result"
    }
   ],
   "source": [
    "tokenizer.batch_decode(torch.tensor([[0, 118, 657, 47, 479, 2], [0, 118, 657, 47, 479, 2]]), skip_special_tokens=True)"
   ],
   "metadata": {
    "collapsed": false,
    "ExecuteTime": {
     "end_time": "2023-06-05T12:35:45.058710600Z",
     "start_time": "2023-06-05T12:35:45.014523100Z"
    }
   }
  },
  {
   "cell_type": "code",
   "execution_count": null,
   "outputs": [],
   "source": [],
   "metadata": {
    "collapsed": false
   }
  }
 ],
 "metadata": {
  "kernelspec": {
   "display_name": "Python 3",
   "language": "python",
   "name": "python3"
  },
  "language_info": {
   "codemirror_mode": {
    "name": "ipython",
    "version": 2
   },
   "file_extension": ".py",
   "mimetype": "text/x-python",
   "name": "python",
   "nbconvert_exporter": "python",
   "pygments_lexer": "ipython2",
   "version": "2.7.6"
  }
 },
 "nbformat": 4,
 "nbformat_minor": 0
}
