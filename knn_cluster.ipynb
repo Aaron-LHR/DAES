{
 "cells": [
  {
   "cell_type": "code",
   "execution_count": 2,
   "metadata": {
    "collapsed": true,
    "ExecuteTime": {
     "end_time": "2023-05-30T03:27:07.994500800Z",
     "start_time": "2023-05-30T03:27:06.055671Z"
    }
   },
   "outputs": [],
   "source": [
    "import os\n",
    "import numpy as np\n",
    "import torch\n",
    "from transformers import BertTokenizer, BertTokenizerFast, BertForSequenceClassification, BertModel\n",
    "import math\n",
    "import torch.nn as nn\n",
    "import os\n",
    "import numpy as np\n",
    "import re\n",
    "# import matplotlib\n",
    "import argparse\n",
    "# matplotlib.use('Qt5Agg')\n",
    "# import matplotlib.pyplot as plt\n",
    "from torch.nn.utils.rnn import pack_padded_sequence, pad_packed_sequence\n",
    "from torch import nn\n",
    "import copy\n",
    "import math\n",
    "from tqdm.auto import tqdm,trange\n",
    "from torch.nn import SyncBatchNorm\n",
    "from torch.utils.data.dataloader import default_collate\n",
    "from torch.nn.parallel import DistributedDataParallel\n",
    "import torch.distributed as dist\n",
    "from torch.utils.data.distributed import DistributedSampler\n",
    "# from torch.utils.tensorboard import SummaryWriter\n",
    "import datasets\n",
    "import json\n",
    "import evaluate\n",
    "from datasets import load_dataset, load_from_disk\n",
    "work_dir = \"./\"\n",
    "device = torch.device(\"cuda\" if torch.cuda.is_available() else \"cpu\")"
   ]
  },
  {
   "cell_type": "code",
   "execution_count": 3,
   "outputs": [
    {
     "name": "stderr",
     "output_type": "stream",
     "text": [
      "Using the latest cached version of the module from D:\\ProgramData\\huggingface\\modules\\datasets_modules\\datasets\\cnn_dailymail\\1b3c71476f6d152c31c1730e83ccb08bcf23e348233f4fcc11e182248e6bf7de (last modified on Sat Mar 11 16:11:44 2023) since it couldn't be found locally at cnn_dailymail., or remotely on the Hugging Face Hub.\n",
      "Found cached dataset cnn_dailymail (D:/ProgramData/huggingface/datasets/cnn_dailymail/3.0.0/3.0.0/1b3c71476f6d152c31c1730e83ccb08bcf23e348233f4fcc11e182248e6bf7de)\n"
     ]
    },
    {
     "data": {
      "text/plain": "  0%|          | 0/3 [00:00<?, ?it/s]",
      "application/vnd.jupyter.widget-view+json": {
       "version_major": 2,
       "version_minor": 0,
       "model_id": "a018eea8d089424bbe3291a258408065"
      }
     },
     "metadata": {},
     "output_type": "display_data"
    },
    {
     "data": {
      "text/plain": "DatasetDict({\n    train: Dataset({\n        features: ['article', 'highlights', 'id'],\n        num_rows: 287113\n    })\n    validation: Dataset({\n        features: ['article', 'highlights', 'id'],\n        num_rows: 13368\n    })\n    test: Dataset({\n        features: ['article', 'highlights', 'id'],\n        num_rows: 11490\n    })\n})"
     },
     "execution_count": 3,
     "metadata": {},
     "output_type": "execute_result"
    }
   ],
   "source": [
    "dataset = load_dataset(\"cnn_dailymail\", '3.0.0')\n",
    "dataset"
   ],
   "metadata": {
    "collapsed": false,
    "ExecuteTime": {
     "end_time": "2023-05-30T03:27:10.567860200Z",
     "start_time": "2023-05-30T03:27:10.244359100Z"
    }
   }
  },
  {
   "cell_type": "code",
   "execution_count": 4,
   "outputs": [
    {
     "data": {
      "text/plain": "[\"LONDON, England (Reuters) -- Harry Potter star Daniel Radcliffe gains access to a reported £20 million ($41.1 million) fortune as he turns 18 on Monday, but he insists the money won't cast a spell on him.\",\n 'Daniel Radcliffe as Harry Potter in \"Harry Potter and the Order of the Phoenix\" To the disappointment of gossip columnists around the world, the young actor says he has no plans to fritter his cash away on fast cars, drink and celebrity parties.',\n '\"I don\\'t plan to be one of those people who, as soon as they turn 18, suddenly buy themselves a massive sports car collection or something similar,\" he told an Australian interviewer earlier this month.',\n '\"I don\\'t think I\\'ll be particularly extravagant.',\n '\"The things I like buying are things that cost about 10 pounds -- books and CDs and DVDs.\"',\n 'At 18, Radcliffe will be able to gamble in a casino, buy a drink in a pub or see the horror film \"Hostel: Part II,\" currently six places below his number one movie on the UK box office chart.',\n \"Details of how he'll mark his landmark birthday are under wraps.\",\n 'His agent and publicist had no comment on his plans.',\n '\"I\\'ll definitely have some sort of party,\" he said in an interview.',\n '\"Hopefully none of you will be reading about it.\"',\n \"Radcliffe's earnings from the first five Potter films have been held in a trust fund which he has not been able to touch.\",\n 'Despite his growing fame and riches, the actor says he is keeping his feet firmly on the ground.',\n '\"People are always looking to say \\'kid star goes off the rails,\\'\" he told reporters last month.',\n '\"But I try very hard not to go that way because it would be too easy for them.\"',\n 'His latest outing as the boy wizard in \"Harry Potter and the Order of the Phoenix\" is breaking records on both sides of the Atlantic and he will reprise the role in the last two films.',\n \"Watch I-Reporter give her review of Potter's latest » .\",\n 'There is life beyond Potter, however.',\n 'The Londoner has filmed a TV movie called \"My Boy Jack,\" about author Rudyard Kipling and his son, due for release later this year.',\n 'He will also appear in \"December Boys,\" an Australian film about four boys who escape an orphanage.',\n 'Earlier this year, he made his stage debut playing a tortured teenager in Peter Shaffer\\'s \"Equus.\"',\n 'Meanwhile, he is braced for even closer media scrutiny now that he\\'s legally an adult: \"I just think I\\'m going to be more sort of fair game,\" he told Reuters.',\n 'E-mail to a friend .',\n 'Copyright 2007 Reuters.',\n 'All rights reserved.This material may not be published, broadcast, rewritten, or redistributed.']"
     },
     "execution_count": 4,
     "metadata": {},
     "output_type": "execute_result"
    }
   ],
   "source": [
    "from nltk.tokenize import sent_tokenize\n",
    "sent_tokenize(dataset[\"train\"][0][\"article\"])"
   ],
   "metadata": {
    "collapsed": false,
    "ExecuteTime": {
     "end_time": "2023-05-30T03:27:44.304188800Z",
     "start_time": "2023-05-30T03:27:43.805194700Z"
    }
   }
  },
  {
   "cell_type": "code",
   "execution_count": 15,
   "outputs": [],
   "source": [
    "def get_prompt_article(example):\n",
    "    from nltk.tokenize import sent_tokenize\n",
    "    article_sents = sent_tokenize(example['article'])\n",
    "    highlights_sents = sent_tokenize(example['highlights'])\n",
    "    if len(highlights_sents) == 1:\n",
    "        highlights_sents = sent_tokenize(example['highlights'].replace(\"\\n\", \". \"))\n",
    "    if len(highlights_sents) == 1:\n",
    "        highlights_sents = sent_tokenize(example['highlights'].replace(\"  \", \". \"))\n",
    "\n",
    "    from rouge_score import rouge_scorer\n",
    "    scorer = rouge_scorer.RougeScorer(['rouge1'], use_stemmer=True)\n",
    "    for i, article_sent in enumerate(article_sents):\n",
    "        rouges = []\n",
    "        for j, highlights_sent in enumerate(highlights_sents):\n",
    "            score = scorer.score(highlights_sent, article_sent)[\"rouge1\"].fmeasure\n",
    "            rouges.append((j + 1, score))\n",
    "        rouges = sorted(rouges, key=lambda x: x[1], reverse=True)\n",
    "        if rouges[0][1] > 0:\n",
    "            article_sents[i] = f'[{rouges[0][0]}] {article_sents[i]} [/{rouges[0][0]}]'\n",
    "    example['article'] = ' '.join(article_sents)\n",
    "    return example"
   ],
   "metadata": {
    "collapsed": false,
    "ExecuteTime": {
     "end_time": "2023-05-30T06:44:26.011228800Z",
     "start_time": "2023-05-30T06:44:25.998228700Z"
    }
   }
  },
  {
   "cell_type": "code",
   "execution_count": 16,
   "outputs": [
    {
     "name": "stdout",
     "output_type": "stream",
     "text": [
      "                                                            "
     ]
    }
   ],
   "source": [
    "ds = dataset.map(get_prompt_article, num_proc=20)"
   ],
   "metadata": {
    "collapsed": false,
    "ExecuteTime": {
     "end_time": "2023-05-30T07:12:21.067760200Z",
     "start_time": "2023-05-30T06:44:37.173887200Z"
    }
   }
  },
  {
   "cell_type": "code",
   "execution_count": 5,
   "outputs": [
    {
     "data": {
      "text/plain": "['Harry Potter star Daniel Radcliffe gets £20M fortune as he turns 18 Monday .',\n 'Young actor says he has no plans to fritter his cash away .',\n \"Radcliffe's earnings from first five Potter films have been held in trust fund .\"]"
     },
     "execution_count": 5,
     "metadata": {},
     "output_type": "execute_result"
    }
   ],
   "source": [
    "from nltk.tokenize import sent_tokenize\n",
    "sent_tokenize(dataset[\"train\"][0][\"highlights\"])"
   ],
   "metadata": {
    "collapsed": false,
    "ExecuteTime": {
     "end_time": "2023-05-30T03:42:50.832614900Z",
     "start_time": "2023-05-30T03:42:50.805616400Z"
    }
   }
  },
  {
   "cell_type": "code",
   "execution_count": 17,
   "outputs": [
    {
     "data": {
      "text/plain": "'[1] LONDON, England (Reuters) -- Harry Potter star Daniel Radcliffe gains access to a reported £20 million ($41.1 million) fortune as he turns 18 on Monday, but he insists the money won\\'t cast a spell on him. [/1] [2] Daniel Radcliffe as Harry Potter in \"Harry Potter and the Order of the Phoenix\" To the disappointment of gossip columnists around the world, the young actor says he has no plans to fritter his cash away on fast cars, drink and celebrity parties. [/2] [1] \"I don\\'t plan to be one of those people who, as soon as they turn 18, suddenly buy themselves a massive sports car collection or something similar,\" he told an Australian interviewer earlier this month. [/1] \"I don\\'t think I\\'ll be particularly extravagant. \"The things I like buying are things that cost about 10 pounds -- books and CDs and DVDs.\" [3] At 18, Radcliffe will be able to gamble in a casino, buy a drink in a pub or see the horror film \"Hostel: Part II,\" currently six places below his number one movie on the UK box office chart. [/3] [2] Details of how he\\'ll mark his landmark birthday are under wraps. [/2] [2] His agent and publicist had no comment on his plans. [/2] [3] \"I\\'ll definitely have some sort of party,\" he said in an interview. [/3] \"Hopefully none of you will be reading about it.\" [3] Radcliffe\\'s earnings from the first five Potter films have been held in a trust fund which he has not been able to touch. [/3] [2] Despite his growing fame and riches, the actor says he is keeping his feet firmly on the ground. [/2] [2] \"People are always looking to say \\'kid star goes off the rails,\\'\" he told reporters last month. [/2] [2] \"But I try very hard not to go that way because it would be too easy for them.\" [/2] [1] His latest outing as the boy wizard in \"Harry Potter and the Order of the Phoenix\" is breaking records on both sides of the Atlantic and he will reprise the role in the last two films. [/1] [3] Watch I-Reporter give her review of Potter\\'s latest » . [/3] [1] There is life beyond Potter, however. [/1] [2] The Londoner has filmed a TV movie called \"My Boy Jack,\" about author Rudyard Kipling and his son, due for release later this year. [/2] [3] He will also appear in \"December Boys,\" an Australian film about four boys who escape an orphanage. [/3] [2] Earlier this year, he made his stage debut playing a tortured teenager in Peter Shaffer\\'s \"Equus.\" [/2] [2] Meanwhile, he is braced for even closer media scrutiny now that he\\'s legally an adult: \"I just think I\\'m going to be more sort of fair game,\" he told Reuters. [/2] [2] E-mail to a friend . [/2] Copyright 2007 Reuters. All rights reserved.This material may not be published, broadcast, rewritten, or redistributed.'"
     },
     "execution_count": 17,
     "metadata": {},
     "output_type": "execute_result"
    }
   ],
   "source": [
    "ds[\"train\"][0][\"article\"]"
   ],
   "metadata": {
    "collapsed": false,
    "ExecuteTime": {
     "end_time": "2023-05-30T07:33:28.348256300Z",
     "start_time": "2023-05-30T07:33:28.340247500Z"
    }
   }
  },
  {
   "cell_type": "code",
   "execution_count": 19,
   "outputs": [
    {
     "data": {
      "text/plain": "{'rouge1': Score(precision=0.05555555555555555, recall=0.08333333333333333, fmeasure=0.06666666666666667),\n 'rouge2': Score(precision=0.0, recall=0.0, fmeasure=0.0),\n 'rougeL': Score(precision=0.05555555555555555, recall=0.08333333333333333, fmeasure=0.06666666666666667)}"
     },
     "execution_count": 19,
     "metadata": {},
     "output_type": "execute_result"
    }
   ],
   "source": [
    "from rouge_score import rouge_scorer\n",
    "scorer = rouge_scorer.RougeScorer(['rouge1', 'rouge2', 'rougeL'], use_stemmer=True)\n",
    "scorer.score('Young actor says he has no plans to fritter his cash away .', '\"But I try very hard not to go that way because it would be too easy for them.\"')"
   ],
   "metadata": {
    "collapsed": false,
    "ExecuteTime": {
     "end_time": "2023-05-30T07:43:30.970149500Z",
     "start_time": "2023-05-30T07:43:30.927907400Z"
    }
   }
  },
  {
   "cell_type": "code",
   "execution_count": null,
   "outputs": [],
   "source": [],
   "metadata": {
    "collapsed": false
   }
  }
 ],
 "metadata": {
  "kernelspec": {
   "display_name": "Python 3",
   "language": "python",
   "name": "python3"
  },
  "language_info": {
   "codemirror_mode": {
    "name": "ipython",
    "version": 2
   },
   "file_extension": ".py",
   "mimetype": "text/x-python",
   "name": "python",
   "nbconvert_exporter": "python",
   "pygments_lexer": "ipython2",
   "version": "2.7.6"
  }
 },
 "nbformat": 4,
 "nbformat_minor": 0
}
