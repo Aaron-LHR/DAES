{
 "cells": [
  {
   "cell_type": "code",
   "execution_count": 18,
   "metadata": {
    "collapsed": true
   },
   "outputs": [
    {
     "name": "stderr",
     "output_type": "stream",
     "text": [
      "loading file vocab.txt from cache at C:\\Users\\ldmc/.cache\\huggingface\\hub\\models--bert-base-uncased\\snapshots\\0a6aa9128b6194f4f3c4db429b6cb4891cdb421b\\vocab.txt\n",
      "loading file tokenizer.json from cache at C:\\Users\\ldmc/.cache\\huggingface\\hub\\models--bert-base-uncased\\snapshots\\0a6aa9128b6194f4f3c4db429b6cb4891cdb421b\\tokenizer.json\n",
      "loading file added_tokens.json from cache at None\n",
      "loading file special_tokens_map.json from cache at None\n",
      "loading file tokenizer_config.json from cache at C:\\Users\\ldmc/.cache\\huggingface\\hub\\models--bert-base-uncased\\snapshots\\0a6aa9128b6194f4f3c4db429b6cb4891cdb421b\\tokenizer_config.json\n",
      "loading configuration file config.json from cache at C:\\Users\\ldmc/.cache\\huggingface\\hub\\models--bert-base-uncased\\snapshots\\0a6aa9128b6194f4f3c4db429b6cb4891cdb421b\\config.json\n",
      "Model config BertConfig {\n",
      "  \"_name_or_path\": \"bert-base-uncased\",\n",
      "  \"architectures\": [\n",
      "    \"BertForMaskedLM\"\n",
      "  ],\n",
      "  \"attention_probs_dropout_prob\": 0.1,\n",
      "  \"classifier_dropout\": null,\n",
      "  \"gradient_checkpointing\": false,\n",
      "  \"hidden_act\": \"gelu\",\n",
      "  \"hidden_dropout_prob\": 0.1,\n",
      "  \"hidden_size\": 768,\n",
      "  \"initializer_range\": 0.02,\n",
      "  \"intermediate_size\": 3072,\n",
      "  \"layer_norm_eps\": 1e-12,\n",
      "  \"max_position_embeddings\": 512,\n",
      "  \"model_type\": \"bert\",\n",
      "  \"num_attention_heads\": 12,\n",
      "  \"num_hidden_layers\": 12,\n",
      "  \"pad_token_id\": 0,\n",
      "  \"position_embedding_type\": \"absolute\",\n",
      "  \"transformers_version\": \"4.24.0\",\n",
      "  \"type_vocab_size\": 2,\n",
      "  \"use_cache\": true,\n",
      "  \"vocab_size\": 30522\n",
      "}\n",
      "\n",
      "loading configuration file config.json from cache at C:\\Users\\ldmc/.cache\\huggingface\\hub\\models--bert-base-uncased\\snapshots\\0a6aa9128b6194f4f3c4db429b6cb4891cdb421b\\config.json\n",
      "Model config BertConfig {\n",
      "  \"architectures\": [\n",
      "    \"BertForMaskedLM\"\n",
      "  ],\n",
      "  \"attention_probs_dropout_prob\": 0.1,\n",
      "  \"classifier_dropout\": null,\n",
      "  \"gradient_checkpointing\": false,\n",
      "  \"hidden_act\": \"gelu\",\n",
      "  \"hidden_dropout_prob\": 0.1,\n",
      "  \"hidden_size\": 768,\n",
      "  \"id2label\": {\n",
      "    \"0\": \"LABEL_0\",\n",
      "    \"1\": \"LABEL_1\",\n",
      "    \"2\": \"LABEL_2\"\n",
      "  },\n",
      "  \"initializer_range\": 0.02,\n",
      "  \"intermediate_size\": 3072,\n",
      "  \"label2id\": {\n",
      "    \"LABEL_0\": 0,\n",
      "    \"LABEL_1\": 1,\n",
      "    \"LABEL_2\": 2\n",
      "  },\n",
      "  \"layer_norm_eps\": 1e-12,\n",
      "  \"max_position_embeddings\": 512,\n",
      "  \"model_type\": \"bert\",\n",
      "  \"num_attention_heads\": 12,\n",
      "  \"num_hidden_layers\": 12,\n",
      "  \"pad_token_id\": 0,\n",
      "  \"position_embedding_type\": \"absolute\",\n",
      "  \"transformers_version\": \"4.24.0\",\n",
      "  \"type_vocab_size\": 2,\n",
      "  \"use_cache\": true,\n",
      "  \"vocab_size\": 30522\n",
      "}\n",
      "\n",
      "loading weights file pytorch_model.bin from cache at C:\\Users\\ldmc/.cache\\huggingface\\hub\\models--bert-base-uncased\\snapshots\\0a6aa9128b6194f4f3c4db429b6cb4891cdb421b\\pytorch_model.bin\n",
      "Some weights of the model checkpoint at bert-base-uncased were not used when initializing BertForSequenceClassification: ['cls.predictions.transform.LayerNorm.bias', 'cls.predictions.transform.LayerNorm.weight', 'cls.seq_relationship.bias', 'cls.predictions.bias', 'cls.predictions.transform.dense.weight', 'cls.predictions.decoder.weight', 'cls.predictions.transform.dense.bias', 'cls.seq_relationship.weight']\n",
      "- This IS expected if you are initializing BertForSequenceClassification from the checkpoint of a model trained on another task or with another architecture (e.g. initializing a BertForSequenceClassification model from a BertForPreTraining model).\n",
      "- This IS NOT expected if you are initializing BertForSequenceClassification from the checkpoint of a model that you expect to be exactly identical (initializing a BertForSequenceClassification model from a BertForSequenceClassification model).\n",
      "Some weights of BertForSequenceClassification were not initialized from the model checkpoint at bert-base-uncased and are newly initialized: ['classifier.bias', 'classifier.weight']\n",
      "You should probably TRAIN this model on a down-stream task to be able to use it for predictions and inference.\n"
     ]
    }
   ],
   "source": [
    "import os\n",
    "\n",
    "import torch\n",
    "from transformers import BertTokenizer, BertTokenizerFast, BertForSequenceClassification\n",
    "\n",
    "tokenizer = BertTokenizerFast.from_pretrained(\"bert-base-uncased\")\n",
    "\n",
    "model = BertForSequenceClassification.from_pretrained(\"bert-base-uncased\", num_labels=2)"
   ]
  },
  {
   "cell_type": "code",
   "execution_count": 5,
   "outputs": [
    {
     "data": {
      "text/plain": "BertConfig {\n  \"_name_or_path\": \"bert-base-uncased\",\n  \"architectures\": [\n    \"BertForMaskedLM\"\n  ],\n  \"attention_probs_dropout_prob\": 0.1,\n  \"classifier_dropout\": null,\n  \"gradient_checkpointing\": false,\n  \"hidden_act\": \"gelu\",\n  \"hidden_dropout_prob\": 0.1,\n  \"hidden_size\": 768,\n  \"initializer_range\": 0.02,\n  \"intermediate_size\": 3072,\n  \"layer_norm_eps\": 1e-12,\n  \"max_position_embeddings\": 512,\n  \"model_type\": \"bert\",\n  \"num_attention_heads\": 12,\n  \"num_hidden_layers\": 12,\n  \"pad_token_id\": 0,\n  \"position_embedding_type\": \"absolute\",\n  \"transformers_version\": \"4.24.0\",\n  \"type_vocab_size\": 2,\n  \"use_cache\": true,\n  \"vocab_size\": 30522\n}"
     },
     "execution_count": 5,
     "metadata": {},
     "output_type": "execute_result"
    }
   ],
   "source": [
    "model.config"
   ],
   "metadata": {
    "collapsed": false
   }
  },
  {
   "cell_type": "code",
   "execution_count": 16,
   "outputs": [
    {
     "data": {
      "text/plain": "{'input_ids': tensor([[ 101,  101, 1045, 2293, 2017, 1010,  102, 2017, 2293, 2033,  102]]), 'token_type_ids': tensor([[0, 0, 0, 0, 0, 0, 0, 0, 0, 0, 0]]), 'attention_mask': tensor([[1, 1, 1, 1, 1, 1, 1, 1, 1, 1, 1]])}"
     },
     "execution_count": 16,
     "metadata": {},
     "output_type": "execute_result"
    }
   ],
   "source": [
    "inputs = tokenizer(\"[CLS] i love you, [SEP] you love me\", return_tensors=\"pt\")\n",
    "inputs"
   ],
   "metadata": {
    "collapsed": false
   }
  },
  {
   "cell_type": "code",
   "execution_count": 21,
   "outputs": [
    {
     "data": {
      "text/plain": "{'input_ids': tensor([[ 101,  101, 1045, 2293, 2017,  102]]), 'token_type_ids': tensor([[0, 0, 0, 0, 0, 0]]), 'attention_mask': tensor([[1, 1, 1, 1, 1, 1]])}"
     },
     "execution_count": 21,
     "metadata": {},
     "output_type": "execute_result"
    }
   ],
   "source": [
    "tokenizer(\"[CLS] i love you\", return_tensors=\"pt\")"
   ],
   "metadata": {
    "collapsed": false
   }
  },
  {
   "cell_type": "code",
   "execution_count": 40,
   "outputs": [
    {
     "data": {
      "text/plain": "{'input_ids': tensor([[ 101, 1045, 2293, 2017, 1012, 2017, 2293, 2033,  102]]), 'token_type_ids': tensor([[0, 0, 0, 0, 0, 0, 0, 0, 0]]), 'attention_mask': tensor([[1, 1, 1, 1, 1, 1, 1, 1, 1]])}"
     },
     "execution_count": 40,
     "metadata": {},
     "output_type": "execute_result"
    }
   ],
   "source": [
    "tokenizer(\"i love you. you love me\", return_tensors=\"pt\")"
   ],
   "metadata": {
    "collapsed": false
   }
  },
  {
   "cell_type": "code",
   "execution_count": 38,
   "outputs": [
    {
     "data": {
      "text/plain": "{'input_ids': [101, 102], 'token_type_ids': [0, 0], 'attention_mask': [1, 1]}"
     },
     "execution_count": 38,
     "metadata": {},
     "output_type": "execute_result"
    }
   ],
   "source": [
    "tokenizer(\"\")"
   ],
   "metadata": {
    "collapsed": false
   }
  },
  {
   "cell_type": "code",
   "execution_count": 19,
   "outputs": [
    {
     "data": {
      "text/plain": "SequenceClassifierOutput(loss=None, logits=tensor([[ 0.1671, -0.6996,  0.0201]], grad_fn=<AddmmBackward0>), hidden_states=None, attentions=None)"
     },
     "execution_count": 19,
     "metadata": {},
     "output_type": "execute_result"
    }
   ],
   "source": [
    "model(**inputs)"
   ],
   "metadata": {
    "collapsed": false
   }
  },
  {
   "cell_type": "code",
   "execution_count": 26,
   "outputs": [
    {
     "data": {
      "text/plain": "101"
     },
     "execution_count": 26,
     "metadata": {},
     "output_type": "execute_result"
    }
   ],
   "source": [
    "tokenizer.convert_tokens_to_ids(\"[CLS]\")"
   ],
   "metadata": {
    "collapsed": false
   }
  },
  {
   "cell_type": "code",
   "execution_count": 27,
   "outputs": [
    {
     "data": {
      "text/plain": "102"
     },
     "execution_count": 27,
     "metadata": {},
     "output_type": "execute_result"
    }
   ],
   "source": [
    "tokenizer.convert_tokens_to_ids(\"[SEP]\")"
   ],
   "metadata": {
    "collapsed": false
   }
  },
  {
   "cell_type": "code",
   "execution_count": 30,
   "outputs": [
    {
     "data": {
      "text/plain": "['[CLS]', 'i', 'love', 'you', ',', 'you', 'love', 'me', '[SEP]']"
     },
     "execution_count": 30,
     "metadata": {},
     "output_type": "execute_result"
    }
   ],
   "source": [
    "tokenizer.convert_ids_to_tokens([ 101, 1045, 2293, 2017, 1010, 2017, 2293, 2033,  102])"
   ],
   "metadata": {
    "collapsed": false
   }
  },
  {
   "cell_type": "code",
   "execution_count": 36,
   "outputs": [
    {
     "data": {
      "text/plain": "'me'"
     },
     "execution_count": 36,
     "metadata": {},
     "output_type": "execute_result"
    }
   ],
   "source": [
    "tokenizer.convert_ids_to_tokens(2033)"
   ],
   "metadata": {
    "collapsed": false
   }
  },
  {
   "cell_type": "code",
   "execution_count": null,
   "outputs": [],
   "source": [
    "tokenizer.create_token_type_ids_from_sequences()"
   ],
   "metadata": {
    "collapsed": false
   }
  },
  {
   "cell_type": "code",
   "execution_count": 42,
   "outputs": [],
   "source": [
    "import torch"
   ],
   "metadata": {
    "collapsed": false
   }
  },
  {
   "cell_type": "code",
   "execution_count": 78,
   "outputs": [],
   "source": [
    "bert_0 = torch.load(\"./data/bert_data_cnndm_final/cnndm.train.141.bert.pt\")"
   ],
   "metadata": {
    "collapsed": false
   }
  },
  {
   "cell_type": "code",
   "execution_count": 79,
   "outputs": [
    {
     "data": {
      "text/plain": "1999"
     },
     "execution_count": 79,
     "metadata": {},
     "output_type": "execute_result"
    }
   ],
   "source": [
    "len(bert_0)"
   ],
   "metadata": {
    "collapsed": false
   }
  },
  {
   "cell_type": "code",
   "execution_count": 45,
   "outputs": [
    {
     "data": {
      "text/plain": "list"
     },
     "execution_count": 45,
     "metadata": {},
     "output_type": "execute_result"
    }
   ],
   "source": [
    "type(bert_0)"
   ],
   "metadata": {
    "collapsed": false
   }
  },
  {
   "cell_type": "code",
   "execution_count": 47,
   "outputs": [
    {
     "data": {
      "text/plain": "dict"
     },
     "execution_count": 47,
     "metadata": {},
     "output_type": "execute_result"
    }
   ],
   "source": [
    "type(bert_0[0])"
   ],
   "metadata": {
    "collapsed": false
   }
  },
  {
   "cell_type": "code",
   "execution_count": 65,
   "outputs": [
    {
     "name": "stdout",
     "output_type": "stream",
     "text": [
      "dict_items([('src', [101, 2225, 10654, 2142, 8850, 5277, 13433, 6672, 2102, 2003, 2359, 2006, 5414, 2011, 2528, 2217, 21740, 1012, 102, 101, 1996, 2539, 29624, 29100, 29624, 11614, 2038, 2081, 2176, 3922, 2144, 2010, 2621, 2693, 2013, 17821, 1998, 2234, 2006, 2004, 1037, 7681, 2005, 4717, 21072, 1999, 9857, 2305, 1005, 2015, 6904, 2452, 4009, 2007, 18022, 2012, 2204, 10929, 2380, 1012, 102, 101, 2002, 2018, 1037, 5414, 6297, 2007, 19715, 3041, 1999, 1996, 2161, 1998, 2027, 2024, 4699, 2205, 1012, 102, 101, 5277, 13433, 6672, 2102, 1010, 2365, 1997, 15518, 5795, 12670, 1010, 2003, 2359, 2011, 21740, 2006, 5414, 2000, 4681, 2037, 4712, 5245, 102, 101, 13433, 6672, 2102, 1006, 2157, 1007, 7860, 5811, 11286, 3051, 2076, 1996, 6904, 2452, 2353, 2461, 13249, 2006, 9857, 102, 101, 21740, 1010, 2174, 1010, 2024, 3587, 1999, 1996, 2528, 1010, 2698, 2685, 2125, 4177, 22882, 1010, 1998, 2903, 1037, 3232, 1997, 14021, 15603, 2094, 19530, 2023, 3204, 2071, 2507, 2068, 1996, 4469, 3341, 3223, 2000, 4119, 2005, 4712, 1012, 102, 101, 2225, 10654, 2024, 2330, 2000, 1996, 5414, 2004, 2027, 2215, 13433, 6672, 2102, 2000, 2562, 4975, 1998, 2002, 3791, 6975, 2399, 2005, 2008, 2000, 4148, 1012, 102, 101, 21740, 1010, 5564, 1010, 2024, 3228, 1037, 3979, 2000, 24728, 27875, 2378, 7842, 7903, 1012, 102, 101, 1996, 6514, 2803, 2067, 2209, 2074, 2058, 2019, 3178, 1999, 1037, 2067, 2093, 2005, 21740, 2104, 2538, 2015, 2114, 7873, 2142, 2023, 2733, 1012, 102, 101, 2027, 3195, 2274, 2034, 29624, 8865, 2546, 3289, 1999, 1037, 1020, 29624, 2487, 3377, 1999, 1996, 4239, 2223, 2104, 2538, 2452, 1012, 102, 101, 1996, 2484, 29624, 29100, 29624, 11614, 7842, 7903, 2038, 3130, 2209, 2005, 16384, 1998, 2001, 2006, 5414, 2012, 17205, 12983, 1998, 2849, 23309, 12170, 12260, 8151, 1012, 102]), ('tgt', [1, 5277, 13433, 6672, 2102, 2038, 2069, 2081, 2176, 3922, 2005, 2225, 10654, 2023, 2161, 3, 2225, 10654, 2024, 10326, 2005, 2032, 2000, 2131, 2034, 29624, 27058, 2213, 2374, 2006, 5414, 3, 21740, 1998, 19715, 2024, 28516, 4699, 1999, 2635, 1996, 8850, 2]), ('src_sent_labels', [1, 0, 1, 0, 0, 0, 0, 0, 0, 0, 0]), ('segs', [0, 0, 0, 0, 0, 0, 0, 0, 0, 0, 0, 0, 0, 0, 0, 0, 0, 0, 0, 1, 1, 1, 1, 1, 1, 1, 1, 1, 1, 1, 1, 1, 1, 1, 1, 1, 1, 1, 1, 1, 1, 1, 1, 1, 1, 1, 1, 1, 1, 1, 1, 1, 1, 1, 1, 1, 1, 1, 1, 1, 1, 0, 0, 0, 0, 0, 0, 0, 0, 0, 0, 0, 0, 0, 0, 0, 0, 0, 0, 0, 1, 1, 1, 1, 1, 1, 1, 1, 1, 1, 1, 1, 1, 1, 1, 1, 1, 1, 1, 1, 1, 1, 1, 1, 0, 0, 0, 0, 0, 0, 0, 0, 0, 0, 0, 0, 0, 0, 0, 0, 0, 0, 0, 0, 0, 1, 1, 1, 1, 1, 1, 1, 1, 1, 1, 1, 1, 1, 1, 1, 1, 1, 1, 1, 1, 1, 1, 1, 1, 1, 1, 1, 1, 1, 1, 1, 1, 1, 1, 1, 1, 1, 1, 1, 1, 1, 0, 0, 0, 0, 0, 0, 0, 0, 0, 0, 0, 0, 0, 0, 0, 0, 0, 0, 0, 0, 0, 0, 0, 0, 0, 0, 0, 0, 1, 1, 1, 1, 1, 1, 1, 1, 1, 1, 1, 1, 1, 1, 1, 1, 1, 0, 0, 0, 0, 0, 0, 0, 0, 0, 0, 0, 0, 0, 0, 0, 0, 0, 0, 0, 0, 0, 0, 0, 0, 0, 0, 1, 1, 1, 1, 1, 1, 1, 1, 1, 1, 1, 1, 1, 1, 1, 1, 1, 1, 1, 1, 1, 1, 1, 1, 0, 0, 0, 0, 0, 0, 0, 0, 0, 0, 0, 0, 0, 0, 0, 0, 0, 0, 0, 0, 0, 0, 0, 0, 0, 0, 0, 0, 0]), ('clss', [0, 19, 61, 80, 104, 125, 166, 194, 211, 237, 261]), ('src_txt', ['west ham united midfielder diego poyet is wanted on loan by championship side watford .', \"the 19-year-old has made four appearances since his summer move from charlton and came on as a substitute for matt jarvis in tuesday night 's fa cup draw with everton at goodison park .\", 'he had a loan spell with huddersfield earlier in the season and they are interested too .', 'diego poyet , son of sunderland boss gus , is wanted by watford on loan to aid their promotion push', 'poyet ( right ) challenges ross barkley during the fa cup third round clash on tuesday', 'watford , however , are fifth in the championship , seven points off leaders bournemouth , and believe a couple of shrewd acquisitions this month could give them the extra edge required to challenge for promotion .', 'west ham are open to the loan as they want poyet to keep developing and he needs competitive games for that to happen .', 'watford , meanwhile , are giving a trial to vujadin savic .', 'the serbian centre back played just over an hour in a back three for watford under 21s against leeds united this week .', 'they scored five first-half goals in a 6-1 victory in the premier league under 21 cup .', 'the 24-year-old savic has previously played for bordeaux and was on loan at dynamo dresden and arminia bielefeld .']), ('tgt_txt', 'diego poyet has only made four appearances for west ham this season<q>west ham are keen for him to get first-team football on loan<q>watford and huddersfield are bot interested in taking the midfielder')])\n"
     ]
    }
   ],
   "source": [
    "print(bert_0[-1].items())"
   ],
   "metadata": {
    "collapsed": false
   }
  },
  {
   "cell_type": "code",
   "execution_count": 49,
   "outputs": [
    {
     "data": {
      "text/plain": "dict_keys(['src', 'tgt', 'src_sent_labels', 'segs', 'clss', 'src_txt', 'tgt_txt'])"
     },
     "execution_count": 49,
     "metadata": {},
     "output_type": "execute_result"
    }
   ],
   "source": [
    "bert_0[0].keys()"
   ],
   "metadata": {
    "collapsed": false
   }
  },
  {
   "cell_type": "code",
   "execution_count": 67,
   "outputs": [
    {
     "data": {
      "text/plain": "\"west ham united midfielder diego poyet is wanted on loan by championship side watford .the 19-year-old has made four appearances since his summer move from charlton and came on as a substitute for matt jarvis in tuesday night 's fa cup draw with everton at goodison park .he had a loan spell with huddersfield earlier in the season and they are interested too .diego poyet , son of sunderland boss gus , is wanted by watford on loan to aid their promotion pushpoyet ( right ) challenges ross barkley during the fa cup third round clash on tuesdaywatford , however , are fifth in the championship , seven points off leaders bournemouth , and believe a couple of shrewd acquisitions this month could give them the extra edge required to challenge for promotion .west ham are open to the loan as they want poyet to keep developing and he needs competitive games for that to happen .watford , meanwhile , are giving a trial to vujadin savic .the serbian centre back played just over an hour in a back three for watford under 21s against leeds united this week .they scored five first-half goals in a 6-1 victory in the premier league under 21 cup .the 24-year-old savic has previously played for bordeaux and was on loan at dynamo dresden and arminia bielefeld .\""
     },
     "execution_count": 67,
     "metadata": {},
     "output_type": "execute_result"
    }
   ],
   "source": [
    "\"\".join(bert_0[-1][\"src_txt\"])"
   ],
   "metadata": {
    "collapsed": false
   }
  },
  {
   "cell_type": "code",
   "execution_count": 66,
   "outputs": [
    {
     "name": "stdout",
     "output_type": "stream",
     "text": [
      "0\twest ham united midfielder diego poyet is wanted on loan by championship side watford .\n",
      "1\tthe 19-year-old has made four appearances since his summer move from charlton and came on as a substitute for matt jarvis in tuesday night 's fa cup draw with everton at goodison park .\n",
      "2\the had a loan spell with huddersfield earlier in the season and they are interested too .\n",
      "3\tdiego poyet , son of sunderland boss gus , is wanted by watford on loan to aid their promotion push\n",
      "4\tpoyet ( right ) challenges ross barkley during the fa cup third round clash on tuesday\n",
      "5\twatford , however , are fifth in the championship , seven points off leaders bournemouth , and believe a couple of shrewd acquisitions this month could give them the extra edge required to challenge for promotion .\n",
      "6\twest ham are open to the loan as they want poyet to keep developing and he needs competitive games for that to happen .\n",
      "7\twatford , meanwhile , are giving a trial to vujadin savic .\n",
      "8\tthe serbian centre back played just over an hour in a back three for watford under 21s against leeds united this week .\n",
      "9\tthey scored five first-half goals in a 6-1 victory in the premier league under 21 cup .\n",
      "10\tthe 24-year-old savic has previously played for bordeaux and was on loan at dynamo dresden and arminia bielefeld .\n"
     ]
    }
   ],
   "source": [
    "for i, text in enumerate(bert_0[-1][\"src_txt\"]):\n",
    "    print(f\"{i}\\t{text}\")"
   ],
   "metadata": {
    "collapsed": false
   }
  },
  {
   "cell_type": "code",
   "execution_count": 70,
   "outputs": [
    {
     "data": {
      "text/plain": "'diego poyet has only made four appearances for west ham this season<q>west ham are keen for him to get first-team football on loan<q>watford and huddersfield are bot interested in taking the midfielder'"
     },
     "execution_count": 70,
     "metadata": {},
     "output_type": "execute_result"
    }
   ],
   "source": [
    "bert_0[-1][\"tgt_txt\"]"
   ],
   "metadata": {
    "collapsed": false
   }
  },
  {
   "cell_type": "code",
   "execution_count": 69,
   "outputs": [
    {
     "name": "stdout",
     "output_type": "stream",
     "text": [
      "west ham united midfielder diego poyet is wanted on loan by championship side watford .\n",
      "he had a loan spell with huddersfield earlier in the season and they are interested too .\n"
     ]
    }
   ],
   "source": [
    "for i, label in enumerate(bert_0[-1][\"src_sent_labels\"]):\n",
    "    if label == 1:\n",
    "        print(bert_0[-1][\"src_txt\"][i])"
   ],
   "metadata": {
    "collapsed": false
   }
  },
  {
   "cell_type": "code",
   "execution_count": 61,
   "outputs": [
    {
     "data": {
      "text/plain": "36"
     },
     "execution_count": 61,
     "metadata": {},
     "output_type": "execute_result"
    }
   ],
   "source": [
    "len(bert_0[0][\"src_sent_labels\"])"
   ],
   "metadata": {
    "collapsed": false
   }
  },
  {
   "cell_type": "code",
   "execution_count": 62,
   "outputs": [
    {
     "data": {
      "text/plain": "36"
     },
     "execution_count": 62,
     "metadata": {},
     "output_type": "execute_result"
    }
   ],
   "source": [
    "len(bert_0[0][\"src_txt\"])"
   ],
   "metadata": {
    "collapsed": false
   }
  },
  {
   "cell_type": "code",
   "execution_count": null,
   "outputs": [],
   "source": [
    "# cnndm.test.0.bert.pt\n",
    "for filename in os.listdir(\"./data/bert_data_cnndm_final/\")"
   ],
   "metadata": {
    "collapsed": false
   }
  }
 ],
 "metadata": {
  "kernelspec": {
   "display_name": "Python 3",
   "language": "python",
   "name": "python3"
  },
  "language_info": {
   "codemirror_mode": {
    "name": "ipython",
    "version": 2
   },
   "file_extension": ".py",
   "mimetype": "text/x-python",
   "name": "python",
   "nbconvert_exporter": "python",
   "pygments_lexer": "ipython2",
   "version": "2.7.6"
  }
 },
 "nbformat": 4,
 "nbformat_minor": 0
}
